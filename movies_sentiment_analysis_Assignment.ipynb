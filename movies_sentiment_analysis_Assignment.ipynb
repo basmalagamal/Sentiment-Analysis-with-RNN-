{
  "cells": [
    {
      "cell_type": "markdown",
      "id": "5031df0b",
      "metadata": {
        "papermill": {
          "duration": 0.008198,
          "end_time": "2024-09-26T12:35:32.202496",
          "exception": false,
          "start_time": "2024-09-26T12:35:32.194298",
          "status": "completed"
        },
        "tags": [],
        "id": "5031df0b"
      },
      "source": [
        "## Used libiraries"
      ]
    },
    {
      "cell_type": "code",
      "execution_count": 3,
      "id": "4f1bb4d8",
      "metadata": {
        "execution": {
          "iopub.execute_input": "2024-09-26T12:35:32.220201Z",
          "iopub.status.busy": "2024-09-26T12:35:32.219692Z",
          "iopub.status.idle": "2024-09-26T12:35:46.356682Z",
          "shell.execute_reply": "2024-09-26T12:35:46.355897Z"
        },
        "papermill": {
          "duration": 14.148299,
          "end_time": "2024-09-26T12:35:46.358994",
          "exception": false,
          "start_time": "2024-09-26T12:35:32.210695",
          "status": "completed"
        },
        "tags": [],
        "colab": {
          "base_uri": "https://localhost:8080/"
        },
        "id": "4f1bb4d8",
        "outputId": "25bda62b-de52-471a-da0e-d6d4f47f4bb7"
      },
      "outputs": [
        {
          "output_type": "stream",
          "name": "stderr",
          "text": [
            "[nltk_data] Downloading package stopwords to /root/nltk_data...\n",
            "[nltk_data]   Unzipping corpora/stopwords.zip.\n",
            "[nltk_data] Downloading package punkt_tab to /root/nltk_data...\n",
            "[nltk_data]   Unzipping tokenizers/punkt_tab.zip.\n"
          ]
        }
      ],
      "source": [
        "import pandas as pd\n",
        "import numpy as np\n",
        "import matplotlib.pyplot as plt\n",
        "import seaborn as sns\n",
        "\n",
        "# text preprocessing\n",
        "import string, nltk, re\n",
        "from nltk.corpus import stopwords\n",
        "from nltk.tokenize import word_tokenize\n",
        "from nltk.stem import WordNetLemmatizer\n",
        "nltk.download('stopwords')\n",
        "nltk.download('punkt_tab')\n",
        "\n",
        "from tensorflow.keras.utils import to_categorical\n",
        "from tensorflow.keras.preprocessing.text import Tokenizer\n",
        "from tensorflow.keras.preprocessing.sequence import pad_sequences\n",
        "from sklearn.model_selection import train_test_split\n",
        "\n",
        "# Neural Network lib\n",
        "from tensorflow.keras.layers import Dense, Embedding, Dropout, GlobalAveragePooling1D\n",
        "import tensorflow.keras as keras\n",
        "import pickle"
      ]
    },
    {
      "cell_type": "markdown",
      "id": "c2c9ea5a",
      "metadata": {
        "papermill": {
          "duration": 0.00801,
          "end_time": "2024-09-26T12:35:46.376810",
          "exception": false,
          "start_time": "2024-09-26T12:35:46.368800",
          "status": "completed"
        },
        "tags": [],
        "id": "c2c9ea5a"
      },
      "source": [
        "## Data reading"
      ]
    },
    {
      "cell_type": "code",
      "execution_count": 6,
      "id": "ea069536",
      "metadata": {
        "execution": {
          "iopub.execute_input": "2024-09-26T12:35:46.394678Z",
          "iopub.status.busy": "2024-09-26T12:35:46.394130Z",
          "iopub.status.idle": "2024-09-26T12:35:47.819972Z",
          "shell.execute_reply": "2024-09-26T12:35:47.818946Z"
        },
        "papermill": {
          "duration": 1.437416,
          "end_time": "2024-09-26T12:35:47.822512",
          "exception": false,
          "start_time": "2024-09-26T12:35:46.385096",
          "status": "completed"
        },
        "tags": [],
        "colab": {
          "base_uri": "https://localhost:8080/",
          "height": 206
        },
        "id": "ea069536",
        "outputId": "467daf19-18ae-4251-ef66-041c0188b62e"
      },
      "outputs": [
        {
          "output_type": "execute_result",
          "data": {
            "text/plain": [
              "                                              review sentiment\n",
              "0  One of the other reviewers has mentioned that ...  positive\n",
              "1  A wonderful little production. <br /><br />The...  positive\n",
              "2  I thought this was a wonderful way to spend ti...  positive\n",
              "3  Basically there's a family where a little boy ...  negative\n",
              "4  Petter Mattei's \"Love in the Time of Money\" is...  positive"
            ],
            "text/html": [
              "\n",
              "  <div id=\"df-a7bae828-5ac5-417e-be71-c9f119d65848\" class=\"colab-df-container\">\n",
              "    <div>\n",
              "<style scoped>\n",
              "    .dataframe tbody tr th:only-of-type {\n",
              "        vertical-align: middle;\n",
              "    }\n",
              "\n",
              "    .dataframe tbody tr th {\n",
              "        vertical-align: top;\n",
              "    }\n",
              "\n",
              "    .dataframe thead th {\n",
              "        text-align: right;\n",
              "    }\n",
              "</style>\n",
              "<table border=\"1\" class=\"dataframe\">\n",
              "  <thead>\n",
              "    <tr style=\"text-align: right;\">\n",
              "      <th></th>\n",
              "      <th>review</th>\n",
              "      <th>sentiment</th>\n",
              "    </tr>\n",
              "  </thead>\n",
              "  <tbody>\n",
              "    <tr>\n",
              "      <th>0</th>\n",
              "      <td>One of the other reviewers has mentioned that ...</td>\n",
              "      <td>positive</td>\n",
              "    </tr>\n",
              "    <tr>\n",
              "      <th>1</th>\n",
              "      <td>A wonderful little production. &lt;br /&gt;&lt;br /&gt;The...</td>\n",
              "      <td>positive</td>\n",
              "    </tr>\n",
              "    <tr>\n",
              "      <th>2</th>\n",
              "      <td>I thought this was a wonderful way to spend ti...</td>\n",
              "      <td>positive</td>\n",
              "    </tr>\n",
              "    <tr>\n",
              "      <th>3</th>\n",
              "      <td>Basically there's a family where a little boy ...</td>\n",
              "      <td>negative</td>\n",
              "    </tr>\n",
              "    <tr>\n",
              "      <th>4</th>\n",
              "      <td>Petter Mattei's \"Love in the Time of Money\" is...</td>\n",
              "      <td>positive</td>\n",
              "    </tr>\n",
              "  </tbody>\n",
              "</table>\n",
              "</div>\n",
              "    <div class=\"colab-df-buttons\">\n",
              "\n",
              "  <div class=\"colab-df-container\">\n",
              "    <button class=\"colab-df-convert\" onclick=\"convertToInteractive('df-a7bae828-5ac5-417e-be71-c9f119d65848')\"\n",
              "            title=\"Convert this dataframe to an interactive table.\"\n",
              "            style=\"display:none;\">\n",
              "\n",
              "  <svg xmlns=\"http://www.w3.org/2000/svg\" height=\"24px\" viewBox=\"0 -960 960 960\">\n",
              "    <path d=\"M120-120v-720h720v720H120Zm60-500h600v-160H180v160Zm220 220h160v-160H400v160Zm0 220h160v-160H400v160ZM180-400h160v-160H180v160Zm440 0h160v-160H620v160ZM180-180h160v-160H180v160Zm440 0h160v-160H620v160Z\"/>\n",
              "  </svg>\n",
              "    </button>\n",
              "\n",
              "  <style>\n",
              "    .colab-df-container {\n",
              "      display:flex;\n",
              "      gap: 12px;\n",
              "    }\n",
              "\n",
              "    .colab-df-convert {\n",
              "      background-color: #E8F0FE;\n",
              "      border: none;\n",
              "      border-radius: 50%;\n",
              "      cursor: pointer;\n",
              "      display: none;\n",
              "      fill: #1967D2;\n",
              "      height: 32px;\n",
              "      padding: 0 0 0 0;\n",
              "      width: 32px;\n",
              "    }\n",
              "\n",
              "    .colab-df-convert:hover {\n",
              "      background-color: #E2EBFA;\n",
              "      box-shadow: 0px 1px 2px rgba(60, 64, 67, 0.3), 0px 1px 3px 1px rgba(60, 64, 67, 0.15);\n",
              "      fill: #174EA6;\n",
              "    }\n",
              "\n",
              "    .colab-df-buttons div {\n",
              "      margin-bottom: 4px;\n",
              "    }\n",
              "\n",
              "    [theme=dark] .colab-df-convert {\n",
              "      background-color: #3B4455;\n",
              "      fill: #D2E3FC;\n",
              "    }\n",
              "\n",
              "    [theme=dark] .colab-df-convert:hover {\n",
              "      background-color: #434B5C;\n",
              "      box-shadow: 0px 1px 3px 1px rgba(0, 0, 0, 0.15);\n",
              "      filter: drop-shadow(0px 1px 2px rgba(0, 0, 0, 0.3));\n",
              "      fill: #FFFFFF;\n",
              "    }\n",
              "  </style>\n",
              "\n",
              "    <script>\n",
              "      const buttonEl =\n",
              "        document.querySelector('#df-a7bae828-5ac5-417e-be71-c9f119d65848 button.colab-df-convert');\n",
              "      buttonEl.style.display =\n",
              "        google.colab.kernel.accessAllowed ? 'block' : 'none';\n",
              "\n",
              "      async function convertToInteractive(key) {\n",
              "        const element = document.querySelector('#df-a7bae828-5ac5-417e-be71-c9f119d65848');\n",
              "        const dataTable =\n",
              "          await google.colab.kernel.invokeFunction('convertToInteractive',\n",
              "                                                    [key], {});\n",
              "        if (!dataTable) return;\n",
              "\n",
              "        const docLinkHtml = 'Like what you see? Visit the ' +\n",
              "          '<a target=\"_blank\" href=https://colab.research.google.com/notebooks/data_table.ipynb>data table notebook</a>'\n",
              "          + ' to learn more about interactive tables.';\n",
              "        element.innerHTML = '';\n",
              "        dataTable['output_type'] = 'display_data';\n",
              "        await google.colab.output.renderOutput(dataTable, element);\n",
              "        const docLink = document.createElement('div');\n",
              "        docLink.innerHTML = docLinkHtml;\n",
              "        element.appendChild(docLink);\n",
              "      }\n",
              "    </script>\n",
              "  </div>\n",
              "\n",
              "\n",
              "<div id=\"df-0bea12b5-38c7-4d63-8080-476735e746de\">\n",
              "  <button class=\"colab-df-quickchart\" onclick=\"quickchart('df-0bea12b5-38c7-4d63-8080-476735e746de')\"\n",
              "            title=\"Suggest charts\"\n",
              "            style=\"display:none;\">\n",
              "\n",
              "<svg xmlns=\"http://www.w3.org/2000/svg\" height=\"24px\"viewBox=\"0 0 24 24\"\n",
              "     width=\"24px\">\n",
              "    <g>\n",
              "        <path d=\"M19 3H5c-1.1 0-2 .9-2 2v14c0 1.1.9 2 2 2h14c1.1 0 2-.9 2-2V5c0-1.1-.9-2-2-2zM9 17H7v-7h2v7zm4 0h-2V7h2v10zm4 0h-2v-4h2v4z\"/>\n",
              "    </g>\n",
              "</svg>\n",
              "  </button>\n",
              "\n",
              "<style>\n",
              "  .colab-df-quickchart {\n",
              "      --bg-color: #E8F0FE;\n",
              "      --fill-color: #1967D2;\n",
              "      --hover-bg-color: #E2EBFA;\n",
              "      --hover-fill-color: #174EA6;\n",
              "      --disabled-fill-color: #AAA;\n",
              "      --disabled-bg-color: #DDD;\n",
              "  }\n",
              "\n",
              "  [theme=dark] .colab-df-quickchart {\n",
              "      --bg-color: #3B4455;\n",
              "      --fill-color: #D2E3FC;\n",
              "      --hover-bg-color: #434B5C;\n",
              "      --hover-fill-color: #FFFFFF;\n",
              "      --disabled-bg-color: #3B4455;\n",
              "      --disabled-fill-color: #666;\n",
              "  }\n",
              "\n",
              "  .colab-df-quickchart {\n",
              "    background-color: var(--bg-color);\n",
              "    border: none;\n",
              "    border-radius: 50%;\n",
              "    cursor: pointer;\n",
              "    display: none;\n",
              "    fill: var(--fill-color);\n",
              "    height: 32px;\n",
              "    padding: 0;\n",
              "    width: 32px;\n",
              "  }\n",
              "\n",
              "  .colab-df-quickchart:hover {\n",
              "    background-color: var(--hover-bg-color);\n",
              "    box-shadow: 0 1px 2px rgba(60, 64, 67, 0.3), 0 1px 3px 1px rgba(60, 64, 67, 0.15);\n",
              "    fill: var(--button-hover-fill-color);\n",
              "  }\n",
              "\n",
              "  .colab-df-quickchart-complete:disabled,\n",
              "  .colab-df-quickchart-complete:disabled:hover {\n",
              "    background-color: var(--disabled-bg-color);\n",
              "    fill: var(--disabled-fill-color);\n",
              "    box-shadow: none;\n",
              "  }\n",
              "\n",
              "  .colab-df-spinner {\n",
              "    border: 2px solid var(--fill-color);\n",
              "    border-color: transparent;\n",
              "    border-bottom-color: var(--fill-color);\n",
              "    animation:\n",
              "      spin 1s steps(1) infinite;\n",
              "  }\n",
              "\n",
              "  @keyframes spin {\n",
              "    0% {\n",
              "      border-color: transparent;\n",
              "      border-bottom-color: var(--fill-color);\n",
              "      border-left-color: var(--fill-color);\n",
              "    }\n",
              "    20% {\n",
              "      border-color: transparent;\n",
              "      border-left-color: var(--fill-color);\n",
              "      border-top-color: var(--fill-color);\n",
              "    }\n",
              "    30% {\n",
              "      border-color: transparent;\n",
              "      border-left-color: var(--fill-color);\n",
              "      border-top-color: var(--fill-color);\n",
              "      border-right-color: var(--fill-color);\n",
              "    }\n",
              "    40% {\n",
              "      border-color: transparent;\n",
              "      border-right-color: var(--fill-color);\n",
              "      border-top-color: var(--fill-color);\n",
              "    }\n",
              "    60% {\n",
              "      border-color: transparent;\n",
              "      border-right-color: var(--fill-color);\n",
              "    }\n",
              "    80% {\n",
              "      border-color: transparent;\n",
              "      border-right-color: var(--fill-color);\n",
              "      border-bottom-color: var(--fill-color);\n",
              "    }\n",
              "    90% {\n",
              "      border-color: transparent;\n",
              "      border-bottom-color: var(--fill-color);\n",
              "    }\n",
              "  }\n",
              "</style>\n",
              "\n",
              "  <script>\n",
              "    async function quickchart(key) {\n",
              "      const quickchartButtonEl =\n",
              "        document.querySelector('#' + key + ' button');\n",
              "      quickchartButtonEl.disabled = true;  // To prevent multiple clicks.\n",
              "      quickchartButtonEl.classList.add('colab-df-spinner');\n",
              "      try {\n",
              "        const charts = await google.colab.kernel.invokeFunction(\n",
              "            'suggestCharts', [key], {});\n",
              "      } catch (error) {\n",
              "        console.error('Error during call to suggestCharts:', error);\n",
              "      }\n",
              "      quickchartButtonEl.classList.remove('colab-df-spinner');\n",
              "      quickchartButtonEl.classList.add('colab-df-quickchart-complete');\n",
              "    }\n",
              "    (() => {\n",
              "      let quickchartButtonEl =\n",
              "        document.querySelector('#df-0bea12b5-38c7-4d63-8080-476735e746de button');\n",
              "      quickchartButtonEl.style.display =\n",
              "        google.colab.kernel.accessAllowed ? 'block' : 'none';\n",
              "    })();\n",
              "  </script>\n",
              "</div>\n",
              "\n",
              "    </div>\n",
              "  </div>\n"
            ],
            "application/vnd.google.colaboratory.intrinsic+json": {
              "type": "dataframe",
              "variable_name": "data",
              "summary": "{\n  \"name\": \"data\",\n  \"rows\": 3980,\n  \"fields\": [\n    {\n      \"column\": \"review\",\n      \"properties\": {\n        \"dtype\": \"string\",\n        \"num_unique_values\": 3978,\n        \"samples\": [\n          \"I watched this movie based on the good reviews here, and I won't make that mistake again.<br /><br />The first couple minutes shows that a group of people have been brought together by some tragedy, but you don't see what it is. Flashback 12-hours and we get to see the boring lives of each of these people, which in the end are totally meaningless to what is about to happen. When the ending is finally reveled, you realize that you just wasted an hour of your life waiting for a big payoff that doesn't happen and means nothing to what you have been watching. The only connection these people have is that they have all had a \\\"bad day\\\"--but even that continuity gets lost in the boredom.<br /><br />If this was supposed to be a \\\"Crash\\\" clone, it's a complete failure.\",\n          \"I just watched this film 15 minutes ago, and I still have no idea what I just watched. Mainly I think it's a film about an internet S&M \\\"star\\\" of CD Roms that are about as realistic as flash cartoons online. She's murdered by someone, which causes her sister and a crack team of 2 FBI agents to investigate the death. The local homicide division of Big City, USA is also investigating, though most of his work comes by the way of oogling the CD ROMs which he claims are as realistic \\\"as the real thing\\\". I know. Wow.<br /><br />Michael Madsen is the only one in the film that has any kind of credits behind him. He's in the film for about 15 minutes, and half of that is him banging the main girl for seemingly no apparent reason. I won't even explain the ending, because quite frankly I can't make it out myself. But before the final scene, we're treated to a 3 or 4 minute montage of everything in the film. Honestly, they could have ran that then the final scene and it would have been the same effect with the cross eyed direction and all.<br /><br />All in all, stay away from this film. I got it because I love bad movies and I love Michael Madsen. I really could have used that 80 some minutes on something else and have been more satisfied. Like, playing that game with a knife where you jab at your hand repeatedly. That for 80 minutes would be much more entertaining.\",\n          \"Created in 1928, and originally named Mortimer before Walt Disney changed his name (because his wife convinced him), Mickey Mouse has become the staple of the Disney brand. I always thought this cartoon was the first ever cartoon to feature Mickey, it is in fact his third, but it doesn't matter, for a six minute animated short it is enjoyable. The story sees Mickey piloting a steamboat until Captain Pete takes him off the bridge, stopping to pick up cargo, and Minnie Mouse missing the boat. Being lifted on she drops her music sheets and a goat eats them, Mickey helps her crank it's tail and play the tune, and getting some other animals to be percussion, until Pete comes along again to stop him, making Mickey peel potatoes. Mickey Mouse was number 53 on The 100 Greatest Pop Culture Icons, and he was number 31 on The 100 Greatest Cartoons. Very good!\"\n        ],\n        \"semantic_type\": \"\",\n        \"description\": \"\"\n      }\n    },\n    {\n      \"column\": \"sentiment\",\n      \"properties\": {\n        \"dtype\": \"category\",\n        \"num_unique_values\": 2,\n        \"samples\": [\n          \"negative\",\n          \"positive\"\n        ],\n        \"semantic_type\": \"\",\n        \"description\": \"\"\n      }\n    }\n  ]\n}"
            }
          },
          "metadata": {},
          "execution_count": 6
        }
      ],
      "source": [
        "data = pd.read_csv(\"/content/IMDBDataset.csv\", on_bad_lines='skip', engine=\"python\")\n",
        "data.head()"
      ]
    },
    {
      "cell_type": "code",
      "execution_count": 7,
      "id": "9ea8db69",
      "metadata": {
        "execution": {
          "iopub.execute_input": "2024-09-26T12:35:47.842461Z",
          "iopub.status.busy": "2024-09-26T12:35:47.842103Z",
          "iopub.status.idle": "2024-09-26T12:35:47.954150Z",
          "shell.execute_reply": "2024-09-26T12:35:47.953246Z"
        },
        "papermill": {
          "duration": 0.124389,
          "end_time": "2024-09-26T12:35:47.956160",
          "exception": false,
          "start_time": "2024-09-26T12:35:47.831771",
          "status": "completed"
        },
        "tags": [],
        "colab": {
          "base_uri": "https://localhost:8080/",
          "height": 175
        },
        "id": "9ea8db69",
        "outputId": "8d12e37b-0cab-44f0-a957-da9218fc771c"
      },
      "outputs": [
        {
          "output_type": "execute_result",
          "data": {
            "text/plain": [
              "                                                   review sentiment\n",
              "count                                                3980      3980\n",
              "unique                                               3978         2\n",
              "top     Quite what the producers of this appalling ada...  negative\n",
              "freq                                                    2      2012"
            ],
            "text/html": [
              "\n",
              "  <div id=\"df-18336909-1fc0-43d8-bcbb-84877e939e21\" class=\"colab-df-container\">\n",
              "    <div>\n",
              "<style scoped>\n",
              "    .dataframe tbody tr th:only-of-type {\n",
              "        vertical-align: middle;\n",
              "    }\n",
              "\n",
              "    .dataframe tbody tr th {\n",
              "        vertical-align: top;\n",
              "    }\n",
              "\n",
              "    .dataframe thead th {\n",
              "        text-align: right;\n",
              "    }\n",
              "</style>\n",
              "<table border=\"1\" class=\"dataframe\">\n",
              "  <thead>\n",
              "    <tr style=\"text-align: right;\">\n",
              "      <th></th>\n",
              "      <th>review</th>\n",
              "      <th>sentiment</th>\n",
              "    </tr>\n",
              "  </thead>\n",
              "  <tbody>\n",
              "    <tr>\n",
              "      <th>count</th>\n",
              "      <td>3980</td>\n",
              "      <td>3980</td>\n",
              "    </tr>\n",
              "    <tr>\n",
              "      <th>unique</th>\n",
              "      <td>3978</td>\n",
              "      <td>2</td>\n",
              "    </tr>\n",
              "    <tr>\n",
              "      <th>top</th>\n",
              "      <td>Quite what the producers of this appalling ada...</td>\n",
              "      <td>negative</td>\n",
              "    </tr>\n",
              "    <tr>\n",
              "      <th>freq</th>\n",
              "      <td>2</td>\n",
              "      <td>2012</td>\n",
              "    </tr>\n",
              "  </tbody>\n",
              "</table>\n",
              "</div>\n",
              "    <div class=\"colab-df-buttons\">\n",
              "\n",
              "  <div class=\"colab-df-container\">\n",
              "    <button class=\"colab-df-convert\" onclick=\"convertToInteractive('df-18336909-1fc0-43d8-bcbb-84877e939e21')\"\n",
              "            title=\"Convert this dataframe to an interactive table.\"\n",
              "            style=\"display:none;\">\n",
              "\n",
              "  <svg xmlns=\"http://www.w3.org/2000/svg\" height=\"24px\" viewBox=\"0 -960 960 960\">\n",
              "    <path d=\"M120-120v-720h720v720H120Zm60-500h600v-160H180v160Zm220 220h160v-160H400v160Zm0 220h160v-160H400v160ZM180-400h160v-160H180v160Zm440 0h160v-160H620v160ZM180-180h160v-160H180v160Zm440 0h160v-160H620v160Z\"/>\n",
              "  </svg>\n",
              "    </button>\n",
              "\n",
              "  <style>\n",
              "    .colab-df-container {\n",
              "      display:flex;\n",
              "      gap: 12px;\n",
              "    }\n",
              "\n",
              "    .colab-df-convert {\n",
              "      background-color: #E8F0FE;\n",
              "      border: none;\n",
              "      border-radius: 50%;\n",
              "      cursor: pointer;\n",
              "      display: none;\n",
              "      fill: #1967D2;\n",
              "      height: 32px;\n",
              "      padding: 0 0 0 0;\n",
              "      width: 32px;\n",
              "    }\n",
              "\n",
              "    .colab-df-convert:hover {\n",
              "      background-color: #E2EBFA;\n",
              "      box-shadow: 0px 1px 2px rgba(60, 64, 67, 0.3), 0px 1px 3px 1px rgba(60, 64, 67, 0.15);\n",
              "      fill: #174EA6;\n",
              "    }\n",
              "\n",
              "    .colab-df-buttons div {\n",
              "      margin-bottom: 4px;\n",
              "    }\n",
              "\n",
              "    [theme=dark] .colab-df-convert {\n",
              "      background-color: #3B4455;\n",
              "      fill: #D2E3FC;\n",
              "    }\n",
              "\n",
              "    [theme=dark] .colab-df-convert:hover {\n",
              "      background-color: #434B5C;\n",
              "      box-shadow: 0px 1px 3px 1px rgba(0, 0, 0, 0.15);\n",
              "      filter: drop-shadow(0px 1px 2px rgba(0, 0, 0, 0.3));\n",
              "      fill: #FFFFFF;\n",
              "    }\n",
              "  </style>\n",
              "\n",
              "    <script>\n",
              "      const buttonEl =\n",
              "        document.querySelector('#df-18336909-1fc0-43d8-bcbb-84877e939e21 button.colab-df-convert');\n",
              "      buttonEl.style.display =\n",
              "        google.colab.kernel.accessAllowed ? 'block' : 'none';\n",
              "\n",
              "      async function convertToInteractive(key) {\n",
              "        const element = document.querySelector('#df-18336909-1fc0-43d8-bcbb-84877e939e21');\n",
              "        const dataTable =\n",
              "          await google.colab.kernel.invokeFunction('convertToInteractive',\n",
              "                                                    [key], {});\n",
              "        if (!dataTable) return;\n",
              "\n",
              "        const docLinkHtml = 'Like what you see? Visit the ' +\n",
              "          '<a target=\"_blank\" href=https://colab.research.google.com/notebooks/data_table.ipynb>data table notebook</a>'\n",
              "          + ' to learn more about interactive tables.';\n",
              "        element.innerHTML = '';\n",
              "        dataTable['output_type'] = 'display_data';\n",
              "        await google.colab.output.renderOutput(dataTable, element);\n",
              "        const docLink = document.createElement('div');\n",
              "        docLink.innerHTML = docLinkHtml;\n",
              "        element.appendChild(docLink);\n",
              "      }\n",
              "    </script>\n",
              "  </div>\n",
              "\n",
              "\n",
              "<div id=\"df-a614c174-a861-4f48-8451-bac975713383\">\n",
              "  <button class=\"colab-df-quickchart\" onclick=\"quickchart('df-a614c174-a861-4f48-8451-bac975713383')\"\n",
              "            title=\"Suggest charts\"\n",
              "            style=\"display:none;\">\n",
              "\n",
              "<svg xmlns=\"http://www.w3.org/2000/svg\" height=\"24px\"viewBox=\"0 0 24 24\"\n",
              "     width=\"24px\">\n",
              "    <g>\n",
              "        <path d=\"M19 3H5c-1.1 0-2 .9-2 2v14c0 1.1.9 2 2 2h14c1.1 0 2-.9 2-2V5c0-1.1-.9-2-2-2zM9 17H7v-7h2v7zm4 0h-2V7h2v10zm4 0h-2v-4h2v4z\"/>\n",
              "    </g>\n",
              "</svg>\n",
              "  </button>\n",
              "\n",
              "<style>\n",
              "  .colab-df-quickchart {\n",
              "      --bg-color: #E8F0FE;\n",
              "      --fill-color: #1967D2;\n",
              "      --hover-bg-color: #E2EBFA;\n",
              "      --hover-fill-color: #174EA6;\n",
              "      --disabled-fill-color: #AAA;\n",
              "      --disabled-bg-color: #DDD;\n",
              "  }\n",
              "\n",
              "  [theme=dark] .colab-df-quickchart {\n",
              "      --bg-color: #3B4455;\n",
              "      --fill-color: #D2E3FC;\n",
              "      --hover-bg-color: #434B5C;\n",
              "      --hover-fill-color: #FFFFFF;\n",
              "      --disabled-bg-color: #3B4455;\n",
              "      --disabled-fill-color: #666;\n",
              "  }\n",
              "\n",
              "  .colab-df-quickchart {\n",
              "    background-color: var(--bg-color);\n",
              "    border: none;\n",
              "    border-radius: 50%;\n",
              "    cursor: pointer;\n",
              "    display: none;\n",
              "    fill: var(--fill-color);\n",
              "    height: 32px;\n",
              "    padding: 0;\n",
              "    width: 32px;\n",
              "  }\n",
              "\n",
              "  .colab-df-quickchart:hover {\n",
              "    background-color: var(--hover-bg-color);\n",
              "    box-shadow: 0 1px 2px rgba(60, 64, 67, 0.3), 0 1px 3px 1px rgba(60, 64, 67, 0.15);\n",
              "    fill: var(--button-hover-fill-color);\n",
              "  }\n",
              "\n",
              "  .colab-df-quickchart-complete:disabled,\n",
              "  .colab-df-quickchart-complete:disabled:hover {\n",
              "    background-color: var(--disabled-bg-color);\n",
              "    fill: var(--disabled-fill-color);\n",
              "    box-shadow: none;\n",
              "  }\n",
              "\n",
              "  .colab-df-spinner {\n",
              "    border: 2px solid var(--fill-color);\n",
              "    border-color: transparent;\n",
              "    border-bottom-color: var(--fill-color);\n",
              "    animation:\n",
              "      spin 1s steps(1) infinite;\n",
              "  }\n",
              "\n",
              "  @keyframes spin {\n",
              "    0% {\n",
              "      border-color: transparent;\n",
              "      border-bottom-color: var(--fill-color);\n",
              "      border-left-color: var(--fill-color);\n",
              "    }\n",
              "    20% {\n",
              "      border-color: transparent;\n",
              "      border-left-color: var(--fill-color);\n",
              "      border-top-color: var(--fill-color);\n",
              "    }\n",
              "    30% {\n",
              "      border-color: transparent;\n",
              "      border-left-color: var(--fill-color);\n",
              "      border-top-color: var(--fill-color);\n",
              "      border-right-color: var(--fill-color);\n",
              "    }\n",
              "    40% {\n",
              "      border-color: transparent;\n",
              "      border-right-color: var(--fill-color);\n",
              "      border-top-color: var(--fill-color);\n",
              "    }\n",
              "    60% {\n",
              "      border-color: transparent;\n",
              "      border-right-color: var(--fill-color);\n",
              "    }\n",
              "    80% {\n",
              "      border-color: transparent;\n",
              "      border-right-color: var(--fill-color);\n",
              "      border-bottom-color: var(--fill-color);\n",
              "    }\n",
              "    90% {\n",
              "      border-color: transparent;\n",
              "      border-bottom-color: var(--fill-color);\n",
              "    }\n",
              "  }\n",
              "</style>\n",
              "\n",
              "  <script>\n",
              "    async function quickchart(key) {\n",
              "      const quickchartButtonEl =\n",
              "        document.querySelector('#' + key + ' button');\n",
              "      quickchartButtonEl.disabled = true;  // To prevent multiple clicks.\n",
              "      quickchartButtonEl.classList.add('colab-df-spinner');\n",
              "      try {\n",
              "        const charts = await google.colab.kernel.invokeFunction(\n",
              "            'suggestCharts', [key], {});\n",
              "      } catch (error) {\n",
              "        console.error('Error during call to suggestCharts:', error);\n",
              "      }\n",
              "      quickchartButtonEl.classList.remove('colab-df-spinner');\n",
              "      quickchartButtonEl.classList.add('colab-df-quickchart-complete');\n",
              "    }\n",
              "    (() => {\n",
              "      let quickchartButtonEl =\n",
              "        document.querySelector('#df-a614c174-a861-4f48-8451-bac975713383 button');\n",
              "      quickchartButtonEl.style.display =\n",
              "        google.colab.kernel.accessAllowed ? 'block' : 'none';\n",
              "    })();\n",
              "  </script>\n",
              "</div>\n",
              "\n",
              "    </div>\n",
              "  </div>\n"
            ],
            "application/vnd.google.colaboratory.intrinsic+json": {
              "type": "dataframe",
              "summary": "{\n  \"name\": \"data\",\n  \"rows\": 4,\n  \"fields\": [\n    {\n      \"column\": \"review\",\n      \"properties\": {\n        \"dtype\": \"string\",\n        \"num_unique_values\": 4,\n        \"samples\": [\n          3978,\n          \"2\",\n          \"3980\"\n        ],\n        \"semantic_type\": \"\",\n        \"description\": \"\"\n      }\n    },\n    {\n      \"column\": \"sentiment\",\n      \"properties\": {\n        \"dtype\": \"string\",\n        \"num_unique_values\": 4,\n        \"samples\": [\n          2,\n          \"2012\",\n          \"3980\"\n        ],\n        \"semantic_type\": \"\",\n        \"description\": \"\"\n      }\n    }\n  ]\n}"
            }
          },
          "metadata": {},
          "execution_count": 7
        }
      ],
      "source": [
        "data.describe()"
      ]
    },
    {
      "cell_type": "code",
      "execution_count": 8,
      "id": "519aeb62",
      "metadata": {
        "execution": {
          "iopub.execute_input": "2024-09-26T12:35:47.974817Z",
          "iopub.status.busy": "2024-09-26T12:35:47.974525Z",
          "iopub.status.idle": "2024-09-26T12:35:47.979940Z",
          "shell.execute_reply": "2024-09-26T12:35:47.979095Z"
        },
        "papermill": {
          "duration": 0.017081,
          "end_time": "2024-09-26T12:35:47.982153",
          "exception": false,
          "start_time": "2024-09-26T12:35:47.965072",
          "status": "completed"
        },
        "tags": [],
        "colab": {
          "base_uri": "https://localhost:8080/"
        },
        "id": "519aeb62",
        "outputId": "ea091f2b-af18-4fcc-e0ba-a004d9c2c9e0"
      },
      "outputs": [
        {
          "output_type": "execute_result",
          "data": {
            "text/plain": [
              "(3980, 2)"
            ]
          },
          "metadata": {},
          "execution_count": 8
        }
      ],
      "source": [
        "data.shape"
      ]
    },
    {
      "cell_type": "code",
      "execution_count": 9,
      "id": "31900755",
      "metadata": {
        "execution": {
          "iopub.execute_input": "2024-09-26T12:35:48.001053Z",
          "iopub.status.busy": "2024-09-26T12:35:48.000323Z",
          "iopub.status.idle": "2024-09-26T12:35:48.016859Z",
          "shell.execute_reply": "2024-09-26T12:35:48.015963Z"
        },
        "papermill": {
          "duration": 0.027851,
          "end_time": "2024-09-26T12:35:48.018844",
          "exception": false,
          "start_time": "2024-09-26T12:35:47.990993",
          "status": "completed"
        },
        "tags": [],
        "colab": {
          "base_uri": "https://localhost:8080/",
          "height": 147
        },
        "id": "31900755",
        "outputId": "ea52c002-e80f-4541-914e-6c0b5f3c5ae0"
      },
      "outputs": [
        {
          "output_type": "execute_result",
          "data": {
            "text/plain": [
              "review       0\n",
              "sentiment    0\n",
              "dtype: int64"
            ],
            "text/html": [
              "<div>\n",
              "<style scoped>\n",
              "    .dataframe tbody tr th:only-of-type {\n",
              "        vertical-align: middle;\n",
              "    }\n",
              "\n",
              "    .dataframe tbody tr th {\n",
              "        vertical-align: top;\n",
              "    }\n",
              "\n",
              "    .dataframe thead th {\n",
              "        text-align: right;\n",
              "    }\n",
              "</style>\n",
              "<table border=\"1\" class=\"dataframe\">\n",
              "  <thead>\n",
              "    <tr style=\"text-align: right;\">\n",
              "      <th></th>\n",
              "      <th>0</th>\n",
              "    </tr>\n",
              "  </thead>\n",
              "  <tbody>\n",
              "    <tr>\n",
              "      <th>review</th>\n",
              "      <td>0</td>\n",
              "    </tr>\n",
              "    <tr>\n",
              "      <th>sentiment</th>\n",
              "      <td>0</td>\n",
              "    </tr>\n",
              "  </tbody>\n",
              "</table>\n",
              "</div><br><label><b>dtype:</b> int64</label>"
            ]
          },
          "metadata": {},
          "execution_count": 9
        }
      ],
      "source": [
        "data.isnull().sum().sort_values()"
      ]
    },
    {
      "cell_type": "code",
      "execution_count": 10,
      "id": "cecf539e",
      "metadata": {
        "execution": {
          "iopub.execute_input": "2024-09-26T12:35:48.037665Z",
          "iopub.status.busy": "2024-09-26T12:35:48.037385Z",
          "iopub.status.idle": "2024-09-26T12:35:48.062676Z",
          "shell.execute_reply": "2024-09-26T12:35:48.061943Z"
        },
        "papermill": {
          "duration": 0.036764,
          "end_time": "2024-09-26T12:35:48.064476",
          "exception": false,
          "start_time": "2024-09-26T12:35:48.027712",
          "status": "completed"
        },
        "tags": [],
        "id": "cecf539e"
      },
      "outputs": [],
      "source": [
        "data.loc[data['sentiment'] == 'positive', 'sentiment'] = 1\n",
        "data.loc[data['sentiment'] == 'negative', 'sentiment'] = 0"
      ]
    },
    {
      "cell_type": "code",
      "execution_count": 11,
      "id": "b0d0a17b",
      "metadata": {
        "execution": {
          "iopub.execute_input": "2024-09-26T12:35:48.083180Z",
          "iopub.status.busy": "2024-09-26T12:35:48.082886Z",
          "iopub.status.idle": "2024-09-26T12:35:48.091252Z",
          "shell.execute_reply": "2024-09-26T12:35:48.090245Z"
        },
        "papermill": {
          "duration": 0.019984,
          "end_time": "2024-09-26T12:35:48.093221",
          "exception": false,
          "start_time": "2024-09-26T12:35:48.073237",
          "status": "completed"
        },
        "tags": [],
        "colab": {
          "base_uri": "https://localhost:8080/",
          "height": 206
        },
        "id": "b0d0a17b",
        "outputId": "52224a79-6c9b-48ee-ef61-4569715d3fc9"
      },
      "outputs": [
        {
          "output_type": "execute_result",
          "data": {
            "text/plain": [
              "                                                 review sentiment\n",
              "3975  Visually cluttered, plot less, incredibly mind...         0\n",
              "3976  OK,so this film is NOT very well known,and was...         1\n",
              "3977  Reeves plays Haji Murad, a hero in 1850's Russ...         0\n",
              "3978  My brother-in-law and his wife brought the mov...         0\n",
              "3979  Now, I'm a big fan of Zombie movies. I admit Z...         0"
            ],
            "text/html": [
              "\n",
              "  <div id=\"df-7c5cb050-bb7c-4f9c-8622-60a8758fbdb3\" class=\"colab-df-container\">\n",
              "    <div>\n",
              "<style scoped>\n",
              "    .dataframe tbody tr th:only-of-type {\n",
              "        vertical-align: middle;\n",
              "    }\n",
              "\n",
              "    .dataframe tbody tr th {\n",
              "        vertical-align: top;\n",
              "    }\n",
              "\n",
              "    .dataframe thead th {\n",
              "        text-align: right;\n",
              "    }\n",
              "</style>\n",
              "<table border=\"1\" class=\"dataframe\">\n",
              "  <thead>\n",
              "    <tr style=\"text-align: right;\">\n",
              "      <th></th>\n",
              "      <th>review</th>\n",
              "      <th>sentiment</th>\n",
              "    </tr>\n",
              "  </thead>\n",
              "  <tbody>\n",
              "    <tr>\n",
              "      <th>3975</th>\n",
              "      <td>Visually cluttered, plot less, incredibly mind...</td>\n",
              "      <td>0</td>\n",
              "    </tr>\n",
              "    <tr>\n",
              "      <th>3976</th>\n",
              "      <td>OK,so this film is NOT very well known,and was...</td>\n",
              "      <td>1</td>\n",
              "    </tr>\n",
              "    <tr>\n",
              "      <th>3977</th>\n",
              "      <td>Reeves plays Haji Murad, a hero in 1850's Russ...</td>\n",
              "      <td>0</td>\n",
              "    </tr>\n",
              "    <tr>\n",
              "      <th>3978</th>\n",
              "      <td>My brother-in-law and his wife brought the mov...</td>\n",
              "      <td>0</td>\n",
              "    </tr>\n",
              "    <tr>\n",
              "      <th>3979</th>\n",
              "      <td>Now, I'm a big fan of Zombie movies. I admit Z...</td>\n",
              "      <td>0</td>\n",
              "    </tr>\n",
              "  </tbody>\n",
              "</table>\n",
              "</div>\n",
              "    <div class=\"colab-df-buttons\">\n",
              "\n",
              "  <div class=\"colab-df-container\">\n",
              "    <button class=\"colab-df-convert\" onclick=\"convertToInteractive('df-7c5cb050-bb7c-4f9c-8622-60a8758fbdb3')\"\n",
              "            title=\"Convert this dataframe to an interactive table.\"\n",
              "            style=\"display:none;\">\n",
              "\n",
              "  <svg xmlns=\"http://www.w3.org/2000/svg\" height=\"24px\" viewBox=\"0 -960 960 960\">\n",
              "    <path d=\"M120-120v-720h720v720H120Zm60-500h600v-160H180v160Zm220 220h160v-160H400v160Zm0 220h160v-160H400v160ZM180-400h160v-160H180v160Zm440 0h160v-160H620v160ZM180-180h160v-160H180v160Zm440 0h160v-160H620v160Z\"/>\n",
              "  </svg>\n",
              "    </button>\n",
              "\n",
              "  <style>\n",
              "    .colab-df-container {\n",
              "      display:flex;\n",
              "      gap: 12px;\n",
              "    }\n",
              "\n",
              "    .colab-df-convert {\n",
              "      background-color: #E8F0FE;\n",
              "      border: none;\n",
              "      border-radius: 50%;\n",
              "      cursor: pointer;\n",
              "      display: none;\n",
              "      fill: #1967D2;\n",
              "      height: 32px;\n",
              "      padding: 0 0 0 0;\n",
              "      width: 32px;\n",
              "    }\n",
              "\n",
              "    .colab-df-convert:hover {\n",
              "      background-color: #E2EBFA;\n",
              "      box-shadow: 0px 1px 2px rgba(60, 64, 67, 0.3), 0px 1px 3px 1px rgba(60, 64, 67, 0.15);\n",
              "      fill: #174EA6;\n",
              "    }\n",
              "\n",
              "    .colab-df-buttons div {\n",
              "      margin-bottom: 4px;\n",
              "    }\n",
              "\n",
              "    [theme=dark] .colab-df-convert {\n",
              "      background-color: #3B4455;\n",
              "      fill: #D2E3FC;\n",
              "    }\n",
              "\n",
              "    [theme=dark] .colab-df-convert:hover {\n",
              "      background-color: #434B5C;\n",
              "      box-shadow: 0px 1px 3px 1px rgba(0, 0, 0, 0.15);\n",
              "      filter: drop-shadow(0px 1px 2px rgba(0, 0, 0, 0.3));\n",
              "      fill: #FFFFFF;\n",
              "    }\n",
              "  </style>\n",
              "\n",
              "    <script>\n",
              "      const buttonEl =\n",
              "        document.querySelector('#df-7c5cb050-bb7c-4f9c-8622-60a8758fbdb3 button.colab-df-convert');\n",
              "      buttonEl.style.display =\n",
              "        google.colab.kernel.accessAllowed ? 'block' : 'none';\n",
              "\n",
              "      async function convertToInteractive(key) {\n",
              "        const element = document.querySelector('#df-7c5cb050-bb7c-4f9c-8622-60a8758fbdb3');\n",
              "        const dataTable =\n",
              "          await google.colab.kernel.invokeFunction('convertToInteractive',\n",
              "                                                    [key], {});\n",
              "        if (!dataTable) return;\n",
              "\n",
              "        const docLinkHtml = 'Like what you see? Visit the ' +\n",
              "          '<a target=\"_blank\" href=https://colab.research.google.com/notebooks/data_table.ipynb>data table notebook</a>'\n",
              "          + ' to learn more about interactive tables.';\n",
              "        element.innerHTML = '';\n",
              "        dataTable['output_type'] = 'display_data';\n",
              "        await google.colab.output.renderOutput(dataTable, element);\n",
              "        const docLink = document.createElement('div');\n",
              "        docLink.innerHTML = docLinkHtml;\n",
              "        element.appendChild(docLink);\n",
              "      }\n",
              "    </script>\n",
              "  </div>\n",
              "\n",
              "\n",
              "<div id=\"df-ce8b9fbc-9392-4d05-89d7-5c4c7a1decbf\">\n",
              "  <button class=\"colab-df-quickchart\" onclick=\"quickchart('df-ce8b9fbc-9392-4d05-89d7-5c4c7a1decbf')\"\n",
              "            title=\"Suggest charts\"\n",
              "            style=\"display:none;\">\n",
              "\n",
              "<svg xmlns=\"http://www.w3.org/2000/svg\" height=\"24px\"viewBox=\"0 0 24 24\"\n",
              "     width=\"24px\">\n",
              "    <g>\n",
              "        <path d=\"M19 3H5c-1.1 0-2 .9-2 2v14c0 1.1.9 2 2 2h14c1.1 0 2-.9 2-2V5c0-1.1-.9-2-2-2zM9 17H7v-7h2v7zm4 0h-2V7h2v10zm4 0h-2v-4h2v4z\"/>\n",
              "    </g>\n",
              "</svg>\n",
              "  </button>\n",
              "\n",
              "<style>\n",
              "  .colab-df-quickchart {\n",
              "      --bg-color: #E8F0FE;\n",
              "      --fill-color: #1967D2;\n",
              "      --hover-bg-color: #E2EBFA;\n",
              "      --hover-fill-color: #174EA6;\n",
              "      --disabled-fill-color: #AAA;\n",
              "      --disabled-bg-color: #DDD;\n",
              "  }\n",
              "\n",
              "  [theme=dark] .colab-df-quickchart {\n",
              "      --bg-color: #3B4455;\n",
              "      --fill-color: #D2E3FC;\n",
              "      --hover-bg-color: #434B5C;\n",
              "      --hover-fill-color: #FFFFFF;\n",
              "      --disabled-bg-color: #3B4455;\n",
              "      --disabled-fill-color: #666;\n",
              "  }\n",
              "\n",
              "  .colab-df-quickchart {\n",
              "    background-color: var(--bg-color);\n",
              "    border: none;\n",
              "    border-radius: 50%;\n",
              "    cursor: pointer;\n",
              "    display: none;\n",
              "    fill: var(--fill-color);\n",
              "    height: 32px;\n",
              "    padding: 0;\n",
              "    width: 32px;\n",
              "  }\n",
              "\n",
              "  .colab-df-quickchart:hover {\n",
              "    background-color: var(--hover-bg-color);\n",
              "    box-shadow: 0 1px 2px rgba(60, 64, 67, 0.3), 0 1px 3px 1px rgba(60, 64, 67, 0.15);\n",
              "    fill: var(--button-hover-fill-color);\n",
              "  }\n",
              "\n",
              "  .colab-df-quickchart-complete:disabled,\n",
              "  .colab-df-quickchart-complete:disabled:hover {\n",
              "    background-color: var(--disabled-bg-color);\n",
              "    fill: var(--disabled-fill-color);\n",
              "    box-shadow: none;\n",
              "  }\n",
              "\n",
              "  .colab-df-spinner {\n",
              "    border: 2px solid var(--fill-color);\n",
              "    border-color: transparent;\n",
              "    border-bottom-color: var(--fill-color);\n",
              "    animation:\n",
              "      spin 1s steps(1) infinite;\n",
              "  }\n",
              "\n",
              "  @keyframes spin {\n",
              "    0% {\n",
              "      border-color: transparent;\n",
              "      border-bottom-color: var(--fill-color);\n",
              "      border-left-color: var(--fill-color);\n",
              "    }\n",
              "    20% {\n",
              "      border-color: transparent;\n",
              "      border-left-color: var(--fill-color);\n",
              "      border-top-color: var(--fill-color);\n",
              "    }\n",
              "    30% {\n",
              "      border-color: transparent;\n",
              "      border-left-color: var(--fill-color);\n",
              "      border-top-color: var(--fill-color);\n",
              "      border-right-color: var(--fill-color);\n",
              "    }\n",
              "    40% {\n",
              "      border-color: transparent;\n",
              "      border-right-color: var(--fill-color);\n",
              "      border-top-color: var(--fill-color);\n",
              "    }\n",
              "    60% {\n",
              "      border-color: transparent;\n",
              "      border-right-color: var(--fill-color);\n",
              "    }\n",
              "    80% {\n",
              "      border-color: transparent;\n",
              "      border-right-color: var(--fill-color);\n",
              "      border-bottom-color: var(--fill-color);\n",
              "    }\n",
              "    90% {\n",
              "      border-color: transparent;\n",
              "      border-bottom-color: var(--fill-color);\n",
              "    }\n",
              "  }\n",
              "</style>\n",
              "\n",
              "  <script>\n",
              "    async function quickchart(key) {\n",
              "      const quickchartButtonEl =\n",
              "        document.querySelector('#' + key + ' button');\n",
              "      quickchartButtonEl.disabled = true;  // To prevent multiple clicks.\n",
              "      quickchartButtonEl.classList.add('colab-df-spinner');\n",
              "      try {\n",
              "        const charts = await google.colab.kernel.invokeFunction(\n",
              "            'suggestCharts', [key], {});\n",
              "      } catch (error) {\n",
              "        console.error('Error during call to suggestCharts:', error);\n",
              "      }\n",
              "      quickchartButtonEl.classList.remove('colab-df-spinner');\n",
              "      quickchartButtonEl.classList.add('colab-df-quickchart-complete');\n",
              "    }\n",
              "    (() => {\n",
              "      let quickchartButtonEl =\n",
              "        document.querySelector('#df-ce8b9fbc-9392-4d05-89d7-5c4c7a1decbf button');\n",
              "      quickchartButtonEl.style.display =\n",
              "        google.colab.kernel.accessAllowed ? 'block' : 'none';\n",
              "    })();\n",
              "  </script>\n",
              "</div>\n",
              "\n",
              "    </div>\n",
              "  </div>\n"
            ],
            "application/vnd.google.colaboratory.intrinsic+json": {
              "type": "dataframe",
              "repr_error": "0"
            }
          },
          "metadata": {},
          "execution_count": 11
        }
      ],
      "source": [
        "data.tail()"
      ]
    },
    {
      "cell_type": "markdown",
      "id": "5b856d8d",
      "metadata": {
        "papermill": {
          "duration": 0.008732,
          "end_time": "2024-09-26T12:35:48.111203",
          "exception": false,
          "start_time": "2024-09-26T12:35:48.102471",
          "status": "completed"
        },
        "tags": [],
        "id": "5b856d8d"
      },
      "source": [
        "## Text Analysis and preprocessing"
      ]
    },
    {
      "cell_type": "code",
      "execution_count": 12,
      "id": "d86055c0",
      "metadata": {
        "execution": {
          "iopub.execute_input": "2024-09-26T12:35:48.130216Z",
          "iopub.status.busy": "2024-09-26T12:35:48.129884Z",
          "iopub.status.idle": "2024-09-26T12:35:48.141311Z",
          "shell.execute_reply": "2024-09-26T12:35:48.140296Z"
        },
        "papermill": {
          "duration": 0.023589,
          "end_time": "2024-09-26T12:35:48.143520",
          "exception": false,
          "start_time": "2024-09-26T12:35:48.119931",
          "status": "completed"
        },
        "tags": [],
        "id": "d86055c0"
      },
      "outputs": [],
      "source": [
        "punc = list(string.punctuation)\n",
        "stop_word = stopwords.words(\"english\")\n",
        "lemma = WordNetLemmatizer()"
      ]
    },
    {
      "cell_type": "code",
      "execution_count": 13,
      "id": "412e7796",
      "metadata": {
        "execution": {
          "iopub.execute_input": "2024-09-26T12:35:48.163117Z",
          "iopub.status.busy": "2024-09-26T12:35:48.162797Z",
          "iopub.status.idle": "2024-09-26T12:35:48.167734Z",
          "shell.execute_reply": "2024-09-26T12:35:48.166864Z"
        },
        "papermill": {
          "duration": 0.016701,
          "end_time": "2024-09-26T12:35:48.169712",
          "exception": false,
          "start_time": "2024-09-26T12:35:48.153011",
          "status": "completed"
        },
        "tags": [],
        "id": "412e7796"
      },
      "outputs": [],
      "source": [
        "def Text_analysis(data):\n",
        "    data = data.lower()\n",
        "    data = re.sub('[^a-zA-Z]', ' ', data)\n",
        "    data = [word for word in word_tokenize(data) if (word not in punc) and (word not in stop_word)]\n",
        "    data = \" \".join(data)\n",
        "\n",
        "    return data\n",
        "\n"
      ]
    },
    {
      "cell_type": "code",
      "execution_count": 14,
      "id": "4414ed1c",
      "metadata": {
        "execution": {
          "iopub.execute_input": "2024-09-26T12:35:48.189187Z",
          "iopub.status.busy": "2024-09-26T12:35:48.188718Z",
          "iopub.status.idle": "2024-09-26T12:37:53.634295Z",
          "shell.execute_reply": "2024-09-26T12:37:53.633459Z"
        },
        "papermill": {
          "duration": 125.458012,
          "end_time": "2024-09-26T12:37:53.636823",
          "exception": false,
          "start_time": "2024-09-26T12:35:48.178811",
          "status": "completed"
        },
        "tags": [],
        "id": "4414ed1c"
      },
      "outputs": [],
      "source": [
        "data['review'] = data['review'].apply(Text_analysis)"
      ]
    },
    {
      "cell_type": "code",
      "execution_count": 15,
      "id": "f5f064ae",
      "metadata": {
        "execution": {
          "iopub.execute_input": "2024-09-26T12:37:53.657149Z",
          "iopub.status.busy": "2024-09-26T12:37:53.656814Z",
          "iopub.status.idle": "2024-09-26T12:37:53.666724Z",
          "shell.execute_reply": "2024-09-26T12:37:53.665821Z"
        },
        "papermill": {
          "duration": 0.022241,
          "end_time": "2024-09-26T12:37:53.668682",
          "exception": false,
          "start_time": "2024-09-26T12:37:53.646441",
          "status": "completed"
        },
        "tags": [],
        "colab": {
          "base_uri": "https://localhost:8080/",
          "height": 206
        },
        "id": "f5f064ae",
        "outputId": "f7f39078-513d-48b6-dbdf-3811e5a80c36"
      },
      "outputs": [
        {
          "output_type": "execute_result",
          "data": {
            "text/plain": [
              "                                              review sentiment\n",
              "0  one reviewers mentioned watching oz episode ho...         1\n",
              "1  wonderful little production br br filming tech...         1\n",
              "2  thought wonderful way spend time hot summer we...         1\n",
              "3  basically family little boy jake thinks zombie...         0\n",
              "4  petter mattei love time money visually stunnin...         1"
            ],
            "text/html": [
              "\n",
              "  <div id=\"df-d8ab337a-47ba-4642-8577-e82bc11b1970\" class=\"colab-df-container\">\n",
              "    <div>\n",
              "<style scoped>\n",
              "    .dataframe tbody tr th:only-of-type {\n",
              "        vertical-align: middle;\n",
              "    }\n",
              "\n",
              "    .dataframe tbody tr th {\n",
              "        vertical-align: top;\n",
              "    }\n",
              "\n",
              "    .dataframe thead th {\n",
              "        text-align: right;\n",
              "    }\n",
              "</style>\n",
              "<table border=\"1\" class=\"dataframe\">\n",
              "  <thead>\n",
              "    <tr style=\"text-align: right;\">\n",
              "      <th></th>\n",
              "      <th>review</th>\n",
              "      <th>sentiment</th>\n",
              "    </tr>\n",
              "  </thead>\n",
              "  <tbody>\n",
              "    <tr>\n",
              "      <th>0</th>\n",
              "      <td>one reviewers mentioned watching oz episode ho...</td>\n",
              "      <td>1</td>\n",
              "    </tr>\n",
              "    <tr>\n",
              "      <th>1</th>\n",
              "      <td>wonderful little production br br filming tech...</td>\n",
              "      <td>1</td>\n",
              "    </tr>\n",
              "    <tr>\n",
              "      <th>2</th>\n",
              "      <td>thought wonderful way spend time hot summer we...</td>\n",
              "      <td>1</td>\n",
              "    </tr>\n",
              "    <tr>\n",
              "      <th>3</th>\n",
              "      <td>basically family little boy jake thinks zombie...</td>\n",
              "      <td>0</td>\n",
              "    </tr>\n",
              "    <tr>\n",
              "      <th>4</th>\n",
              "      <td>petter mattei love time money visually stunnin...</td>\n",
              "      <td>1</td>\n",
              "    </tr>\n",
              "  </tbody>\n",
              "</table>\n",
              "</div>\n",
              "    <div class=\"colab-df-buttons\">\n",
              "\n",
              "  <div class=\"colab-df-container\">\n",
              "    <button class=\"colab-df-convert\" onclick=\"convertToInteractive('df-d8ab337a-47ba-4642-8577-e82bc11b1970')\"\n",
              "            title=\"Convert this dataframe to an interactive table.\"\n",
              "            style=\"display:none;\">\n",
              "\n",
              "  <svg xmlns=\"http://www.w3.org/2000/svg\" height=\"24px\" viewBox=\"0 -960 960 960\">\n",
              "    <path d=\"M120-120v-720h720v720H120Zm60-500h600v-160H180v160Zm220 220h160v-160H400v160Zm0 220h160v-160H400v160ZM180-400h160v-160H180v160Zm440 0h160v-160H620v160ZM180-180h160v-160H180v160Zm440 0h160v-160H620v160Z\"/>\n",
              "  </svg>\n",
              "    </button>\n",
              "\n",
              "  <style>\n",
              "    .colab-df-container {\n",
              "      display:flex;\n",
              "      gap: 12px;\n",
              "    }\n",
              "\n",
              "    .colab-df-convert {\n",
              "      background-color: #E8F0FE;\n",
              "      border: none;\n",
              "      border-radius: 50%;\n",
              "      cursor: pointer;\n",
              "      display: none;\n",
              "      fill: #1967D2;\n",
              "      height: 32px;\n",
              "      padding: 0 0 0 0;\n",
              "      width: 32px;\n",
              "    }\n",
              "\n",
              "    .colab-df-convert:hover {\n",
              "      background-color: #E2EBFA;\n",
              "      box-shadow: 0px 1px 2px rgba(60, 64, 67, 0.3), 0px 1px 3px 1px rgba(60, 64, 67, 0.15);\n",
              "      fill: #174EA6;\n",
              "    }\n",
              "\n",
              "    .colab-df-buttons div {\n",
              "      margin-bottom: 4px;\n",
              "    }\n",
              "\n",
              "    [theme=dark] .colab-df-convert {\n",
              "      background-color: #3B4455;\n",
              "      fill: #D2E3FC;\n",
              "    }\n",
              "\n",
              "    [theme=dark] .colab-df-convert:hover {\n",
              "      background-color: #434B5C;\n",
              "      box-shadow: 0px 1px 3px 1px rgba(0, 0, 0, 0.15);\n",
              "      filter: drop-shadow(0px 1px 2px rgba(0, 0, 0, 0.3));\n",
              "      fill: #FFFFFF;\n",
              "    }\n",
              "  </style>\n",
              "\n",
              "    <script>\n",
              "      const buttonEl =\n",
              "        document.querySelector('#df-d8ab337a-47ba-4642-8577-e82bc11b1970 button.colab-df-convert');\n",
              "      buttonEl.style.display =\n",
              "        google.colab.kernel.accessAllowed ? 'block' : 'none';\n",
              "\n",
              "      async function convertToInteractive(key) {\n",
              "        const element = document.querySelector('#df-d8ab337a-47ba-4642-8577-e82bc11b1970');\n",
              "        const dataTable =\n",
              "          await google.colab.kernel.invokeFunction('convertToInteractive',\n",
              "                                                    [key], {});\n",
              "        if (!dataTable) return;\n",
              "\n",
              "        const docLinkHtml = 'Like what you see? Visit the ' +\n",
              "          '<a target=\"_blank\" href=https://colab.research.google.com/notebooks/data_table.ipynb>data table notebook</a>'\n",
              "          + ' to learn more about interactive tables.';\n",
              "        element.innerHTML = '';\n",
              "        dataTable['output_type'] = 'display_data';\n",
              "        await google.colab.output.renderOutput(dataTable, element);\n",
              "        const docLink = document.createElement('div');\n",
              "        docLink.innerHTML = docLinkHtml;\n",
              "        element.appendChild(docLink);\n",
              "      }\n",
              "    </script>\n",
              "  </div>\n",
              "\n",
              "\n",
              "<div id=\"df-320102a2-393a-41b7-a09e-b9c74fca87b8\">\n",
              "  <button class=\"colab-df-quickchart\" onclick=\"quickchart('df-320102a2-393a-41b7-a09e-b9c74fca87b8')\"\n",
              "            title=\"Suggest charts\"\n",
              "            style=\"display:none;\">\n",
              "\n",
              "<svg xmlns=\"http://www.w3.org/2000/svg\" height=\"24px\"viewBox=\"0 0 24 24\"\n",
              "     width=\"24px\">\n",
              "    <g>\n",
              "        <path d=\"M19 3H5c-1.1 0-2 .9-2 2v14c0 1.1.9 2 2 2h14c1.1 0 2-.9 2-2V5c0-1.1-.9-2-2-2zM9 17H7v-7h2v7zm4 0h-2V7h2v10zm4 0h-2v-4h2v4z\"/>\n",
              "    </g>\n",
              "</svg>\n",
              "  </button>\n",
              "\n",
              "<style>\n",
              "  .colab-df-quickchart {\n",
              "      --bg-color: #E8F0FE;\n",
              "      --fill-color: #1967D2;\n",
              "      --hover-bg-color: #E2EBFA;\n",
              "      --hover-fill-color: #174EA6;\n",
              "      --disabled-fill-color: #AAA;\n",
              "      --disabled-bg-color: #DDD;\n",
              "  }\n",
              "\n",
              "  [theme=dark] .colab-df-quickchart {\n",
              "      --bg-color: #3B4455;\n",
              "      --fill-color: #D2E3FC;\n",
              "      --hover-bg-color: #434B5C;\n",
              "      --hover-fill-color: #FFFFFF;\n",
              "      --disabled-bg-color: #3B4455;\n",
              "      --disabled-fill-color: #666;\n",
              "  }\n",
              "\n",
              "  .colab-df-quickchart {\n",
              "    background-color: var(--bg-color);\n",
              "    border: none;\n",
              "    border-radius: 50%;\n",
              "    cursor: pointer;\n",
              "    display: none;\n",
              "    fill: var(--fill-color);\n",
              "    height: 32px;\n",
              "    padding: 0;\n",
              "    width: 32px;\n",
              "  }\n",
              "\n",
              "  .colab-df-quickchart:hover {\n",
              "    background-color: var(--hover-bg-color);\n",
              "    box-shadow: 0 1px 2px rgba(60, 64, 67, 0.3), 0 1px 3px 1px rgba(60, 64, 67, 0.15);\n",
              "    fill: var(--button-hover-fill-color);\n",
              "  }\n",
              "\n",
              "  .colab-df-quickchart-complete:disabled,\n",
              "  .colab-df-quickchart-complete:disabled:hover {\n",
              "    background-color: var(--disabled-bg-color);\n",
              "    fill: var(--disabled-fill-color);\n",
              "    box-shadow: none;\n",
              "  }\n",
              "\n",
              "  .colab-df-spinner {\n",
              "    border: 2px solid var(--fill-color);\n",
              "    border-color: transparent;\n",
              "    border-bottom-color: var(--fill-color);\n",
              "    animation:\n",
              "      spin 1s steps(1) infinite;\n",
              "  }\n",
              "\n",
              "  @keyframes spin {\n",
              "    0% {\n",
              "      border-color: transparent;\n",
              "      border-bottom-color: var(--fill-color);\n",
              "      border-left-color: var(--fill-color);\n",
              "    }\n",
              "    20% {\n",
              "      border-color: transparent;\n",
              "      border-left-color: var(--fill-color);\n",
              "      border-top-color: var(--fill-color);\n",
              "    }\n",
              "    30% {\n",
              "      border-color: transparent;\n",
              "      border-left-color: var(--fill-color);\n",
              "      border-top-color: var(--fill-color);\n",
              "      border-right-color: var(--fill-color);\n",
              "    }\n",
              "    40% {\n",
              "      border-color: transparent;\n",
              "      border-right-color: var(--fill-color);\n",
              "      border-top-color: var(--fill-color);\n",
              "    }\n",
              "    60% {\n",
              "      border-color: transparent;\n",
              "      border-right-color: var(--fill-color);\n",
              "    }\n",
              "    80% {\n",
              "      border-color: transparent;\n",
              "      border-right-color: var(--fill-color);\n",
              "      border-bottom-color: var(--fill-color);\n",
              "    }\n",
              "    90% {\n",
              "      border-color: transparent;\n",
              "      border-bottom-color: var(--fill-color);\n",
              "    }\n",
              "  }\n",
              "</style>\n",
              "\n",
              "  <script>\n",
              "    async function quickchart(key) {\n",
              "      const quickchartButtonEl =\n",
              "        document.querySelector('#' + key + ' button');\n",
              "      quickchartButtonEl.disabled = true;  // To prevent multiple clicks.\n",
              "      quickchartButtonEl.classList.add('colab-df-spinner');\n",
              "      try {\n",
              "        const charts = await google.colab.kernel.invokeFunction(\n",
              "            'suggestCharts', [key], {});\n",
              "      } catch (error) {\n",
              "        console.error('Error during call to suggestCharts:', error);\n",
              "      }\n",
              "      quickchartButtonEl.classList.remove('colab-df-spinner');\n",
              "      quickchartButtonEl.classList.add('colab-df-quickchart-complete');\n",
              "    }\n",
              "    (() => {\n",
              "      let quickchartButtonEl =\n",
              "        document.querySelector('#df-320102a2-393a-41b7-a09e-b9c74fca87b8 button');\n",
              "      quickchartButtonEl.style.display =\n",
              "        google.colab.kernel.accessAllowed ? 'block' : 'none';\n",
              "    })();\n",
              "  </script>\n",
              "</div>\n",
              "\n",
              "    </div>\n",
              "  </div>\n"
            ],
            "application/vnd.google.colaboratory.intrinsic+json": {
              "type": "dataframe",
              "variable_name": "data",
              "summary": "{\n  \"name\": \"data\",\n  \"rows\": 3980,\n  \"fields\": [\n    {\n      \"column\": \"review\",\n      \"properties\": {\n        \"dtype\": \"string\",\n        \"num_unique_values\": 3978,\n        \"samples\": [\n          \"watched movie based good reviews make mistake br br first couple minutes shows group people brought together tragedy see flashback hours get see boring lives people end totally meaningless happen ending finally reveled realize wasted hour life waiting big payoff happen means nothing watching connection people bad day even continuity gets lost boredom br br supposed crash clone complete failure\",\n          \"watched film minutes ago still idea watched mainly think film internet star cd roms realistic flash cartoons online murdered someone causes sister crack team fbi agents investigate death local homicide division big city usa also investigating though work comes way oogling cd roms claims realistic real thing know wow br br michael madsen one film kind credits behind film minutes half banging main girl seemingly apparent reason even explain ending quite frankly make final scene treated minute montage everything film honestly could ran final scene would effect cross eyed direction br br stay away film got love bad movies love michael madsen really could used minutes something else satisfied like playing game knife jab hand repeatedly minutes would much entertaining\",\n          \"created originally named mortimer walt disney changed name wife convinced mickey mouse become staple disney brand always thought cartoon first ever cartoon feature mickey fact third matter six minute animated short enjoyable story sees mickey piloting steamboat captain pete takes bridge stopping pick cargo minnie mouse missing boat lifted drops music sheets goat eats mickey helps crank tail play tune getting animals percussion pete comes along stop making mickey peel potatoes mickey mouse number greatest pop culture icons number greatest cartoons good\"\n        ],\n        \"semantic_type\": \"\",\n        \"description\": \"\"\n      }\n    },\n    {\n      \"column\": \"sentiment\",\n      \"properties\": {\n        \"dtype\": \"date\",\n        \"min\": 0,\n        \"max\": 1,\n        \"num_unique_values\": 2,\n        \"samples\": [\n          0,\n          1\n        ],\n        \"semantic_type\": \"\",\n        \"description\": \"\"\n      }\n    }\n  ]\n}"
            }
          },
          "metadata": {},
          "execution_count": 15
        }
      ],
      "source": [
        "data.head()"
      ]
    },
    {
      "cell_type": "code",
      "execution_count": 16,
      "id": "03b878ae",
      "metadata": {
        "execution": {
          "iopub.execute_input": "2024-09-26T12:37:53.688773Z",
          "iopub.status.busy": "2024-09-26T12:37:53.688420Z",
          "iopub.status.idle": "2024-09-26T12:37:53.692672Z",
          "shell.execute_reply": "2024-09-26T12:37:53.691946Z"
        },
        "papermill": {
          "duration": 0.016681,
          "end_time": "2024-09-26T12:37:53.694633",
          "exception": false,
          "start_time": "2024-09-26T12:37:53.677952",
          "status": "completed"
        },
        "tags": [],
        "id": "03b878ae"
      },
      "outputs": [],
      "source": [
        "X = data['review']\n",
        "y = data['sentiment']"
      ]
    },
    {
      "cell_type": "markdown",
      "id": "b89db374",
      "metadata": {
        "papermill": {
          "duration": 0.008895,
          "end_time": "2024-09-26T12:37:53.713159",
          "exception": false,
          "start_time": "2024-09-26T12:37:53.704264",
          "status": "completed"
        },
        "tags": [],
        "id": "b89db374"
      },
      "source": [
        "## OneHot Encoding"
      ]
    },
    {
      "cell_type": "code",
      "execution_count": 17,
      "id": "938055d2",
      "metadata": {
        "execution": {
          "iopub.execute_input": "2024-09-26T12:37:53.732978Z",
          "iopub.status.busy": "2024-09-26T12:37:53.732694Z",
          "iopub.status.idle": "2024-09-26T12:37:53.743277Z",
          "shell.execute_reply": "2024-09-26T12:37:53.742420Z"
        },
        "papermill": {
          "duration": 0.022732,
          "end_time": "2024-09-26T12:37:53.745262",
          "exception": false,
          "start_time": "2024-09-26T12:37:53.722530",
          "status": "completed"
        },
        "tags": [],
        "colab": {
          "base_uri": "https://localhost:8080/"
        },
        "id": "938055d2",
        "outputId": "d7f36384-f264-4662-9772-86bc0b7e274e"
      },
      "outputs": [
        {
          "output_type": "execute_result",
          "data": {
            "text/plain": [
              "array([0., 1.])"
            ]
          },
          "metadata": {},
          "execution_count": 17
        }
      ],
      "source": [
        "label = to_categorical(y, 2)\n",
        "label[0]"
      ]
    },
    {
      "cell_type": "markdown",
      "id": "824e49c3",
      "metadata": {
        "papermill": {
          "duration": 0.009417,
          "end_time": "2024-09-26T12:37:53.764281",
          "exception": false,
          "start_time": "2024-09-26T12:37:53.754864",
          "status": "completed"
        },
        "tags": [],
        "id": "824e49c3"
      },
      "source": [
        "## Tokenization"
      ]
    },
    {
      "cell_type": "code",
      "execution_count": 18,
      "id": "2def9ee4",
      "metadata": {
        "execution": {
          "iopub.execute_input": "2024-09-26T12:37:53.784328Z",
          "iopub.status.busy": "2024-09-26T12:37:53.784013Z",
          "iopub.status.idle": "2024-09-26T12:38:03.990864Z",
          "shell.execute_reply": "2024-09-26T12:38:03.989724Z"
        },
        "papermill": {
          "duration": 10.219392,
          "end_time": "2024-09-26T12:38:03.993020",
          "exception": false,
          "start_time": "2024-09-26T12:37:53.773628",
          "status": "completed"
        },
        "tags": [],
        "colab": {
          "base_uri": "https://localhost:8080/"
        },
        "id": "2def9ee4",
        "outputId": "362c2c66-5911-40a0-b472-002dae207e22"
      },
      "outputs": [
        {
          "output_type": "stream",
          "name": "stdout",
          "text": [
            "The max sentince size is :  939\n",
            "The shape of padding data :  (3980, 939)\n"
          ]
        }
      ],
      "source": [
        "tokenize = Tokenizer()\n",
        "tokenize.fit_on_texts(X)\n",
        "\n",
        "token_sequance = tokenize.texts_to_sequences(X)\n",
        "max_sentince_size = max([len(i) for i in token_sequance])\n",
        "\n",
        "pad_data = pad_sequences(token_sequance, maxlen=max_sentince_size, padding='pre')\n",
        "\n",
        "print('The max sentince size is : ', max_sentince_size)\n",
        "print('The shape of padding data : ', pad_data.shape)\n",
        "\n"
      ]
    },
    {
      "cell_type": "code",
      "execution_count": 19,
      "id": "ef2bca80",
      "metadata": {
        "execution": {
          "iopub.execute_input": "2024-09-26T12:38:04.013459Z",
          "iopub.status.busy": "2024-09-26T12:38:04.013144Z",
          "iopub.status.idle": "2024-09-26T12:38:04.018031Z",
          "shell.execute_reply": "2024-09-26T12:38:04.017183Z"
        },
        "papermill": {
          "duration": 0.017212,
          "end_time": "2024-09-26T12:38:04.019936",
          "exception": false,
          "start_time": "2024-09-26T12:38:04.002724",
          "status": "completed"
        },
        "tags": [],
        "colab": {
          "base_uri": "https://localhost:8080/"
        },
        "id": "ef2bca80",
        "outputId": "abc7dce4-b294-4f12-8929-8b0c6d90d268"
      },
      "outputs": [
        {
          "output_type": "stream",
          "name": "stdout",
          "text": [
            "Max vocab size :  34499\n"
          ]
        }
      ],
      "source": [
        "voc_size = len(tokenize.word_index) + 1\n",
        "print('Max vocab size : ', voc_size)"
      ]
    },
    {
      "cell_type": "code",
      "execution_count": 20,
      "id": "853927c9",
      "metadata": {
        "execution": {
          "iopub.execute_input": "2024-09-26T12:38:04.039975Z",
          "iopub.status.busy": "2024-09-26T12:38:04.039703Z",
          "iopub.status.idle": "2024-09-26T12:38:04.140221Z",
          "shell.execute_reply": "2024-09-26T12:38:04.139373Z"
        },
        "papermill": {
          "duration": 0.113278,
          "end_time": "2024-09-26T12:38:04.142739",
          "exception": false,
          "start_time": "2024-09-26T12:38:04.029461",
          "status": "completed"
        },
        "tags": [],
        "id": "853927c9"
      },
      "outputs": [],
      "source": [
        "X_train, X_test, y_train, y_test = train_test_split(pad_data, label, test_size=0.3, random_state=7)"
      ]
    },
    {
      "cell_type": "code",
      "execution_count": 21,
      "id": "becf02cf",
      "metadata": {
        "execution": {
          "iopub.execute_input": "2024-09-26T12:38:04.166009Z",
          "iopub.status.busy": "2024-09-26T12:38:04.165379Z",
          "iopub.status.idle": "2024-09-26T12:38:05.047765Z",
          "shell.execute_reply": "2024-09-26T12:38:05.046863Z"
        },
        "papermill": {
          "duration": 0.895964,
          "end_time": "2024-09-26T12:38:05.049921",
          "exception": false,
          "start_time": "2024-09-26T12:38:04.153957",
          "status": "completed"
        },
        "tags": [],
        "colab": {
          "base_uri": "https://localhost:8080/",
          "height": 315
        },
        "id": "becf02cf",
        "outputId": "b45bbfd1-dfe1-419b-8d98-492906b361d7"
      },
      "outputs": [
        {
          "output_type": "stream",
          "name": "stderr",
          "text": [
            "/usr/local/lib/python3.11/dist-packages/keras/src/layers/core/embedding.py:90: UserWarning: Argument `input_length` is deprecated. Just remove it.\n",
            "  warnings.warn(\n"
          ]
        },
        {
          "output_type": "display_data",
          "data": {
            "text/plain": [
              "\u001b[1mModel: \"sequential\"\u001b[0m\n"
            ],
            "text/html": [
              "<pre style=\"white-space:pre;overflow-x:auto;line-height:normal;font-family:Menlo,'DejaVu Sans Mono',consolas,'Courier New',monospace\"><span style=\"font-weight: bold\">Model: \"sequential\"</span>\n",
              "</pre>\n"
            ]
          },
          "metadata": {}
        },
        {
          "output_type": "display_data",
          "data": {
            "text/plain": [
              "┏━━━━━━━━━━━━━━━━━━━━━━━━━━━━━━━━━━━━━━┳━━━━━━━━━━━━━━━━━━━━━━━━━━━━━┳━━━━━━━━━━━━━━━━━┓\n",
              "┃\u001b[1m \u001b[0m\u001b[1mLayer (type)                        \u001b[0m\u001b[1m \u001b[0m┃\u001b[1m \u001b[0m\u001b[1mOutput Shape               \u001b[0m\u001b[1m \u001b[0m┃\u001b[1m \u001b[0m\u001b[1m        Param #\u001b[0m\u001b[1m \u001b[0m┃\n",
              "┡━━━━━━━━━━━━━━━━━━━━━━━━━━━━━━━━━━━━━━╇━━━━━━━━━━━━━━━━━━━━━━━━━━━━━╇━━━━━━━━━━━━━━━━━┩\n",
              "│ embedding (\u001b[38;5;33mEmbedding\u001b[0m)                │ (\u001b[38;5;45mNone\u001b[0m, \u001b[38;5;34m939\u001b[0m, \u001b[38;5;34m939\u001b[0m)            │      \u001b[38;5;34m32,394,561\u001b[0m │\n",
              "├──────────────────────────────────────┼─────────────────────────────┼─────────────────┤\n",
              "│ global_average_pooling1d             │ (\u001b[38;5;45mNone\u001b[0m, \u001b[38;5;34m939\u001b[0m)                 │               \u001b[38;5;34m0\u001b[0m │\n",
              "│ (\u001b[38;5;33mGlobalAveragePooling1D\u001b[0m)             │                             │                 │\n",
              "├──────────────────────────────────────┼─────────────────────────────┼─────────────────┤\n",
              "│ dropout (\u001b[38;5;33mDropout\u001b[0m)                    │ (\u001b[38;5;45mNone\u001b[0m, \u001b[38;5;34m939\u001b[0m)                 │               \u001b[38;5;34m0\u001b[0m │\n",
              "├──────────────────────────────────────┼─────────────────────────────┼─────────────────┤\n",
              "│ dense (\u001b[38;5;33mDense\u001b[0m)                        │ (\u001b[38;5;45mNone\u001b[0m, \u001b[38;5;34m2\u001b[0m)                   │           \u001b[38;5;34m1,880\u001b[0m │\n",
              "└──────────────────────────────────────┴─────────────────────────────┴─────────────────┘\n"
            ],
            "text/html": [
              "<pre style=\"white-space:pre;overflow-x:auto;line-height:normal;font-family:Menlo,'DejaVu Sans Mono',consolas,'Courier New',monospace\">┏━━━━━━━━━━━━━━━━━━━━━━━━━━━━━━━━━━━━━━┳━━━━━━━━━━━━━━━━━━━━━━━━━━━━━┳━━━━━━━━━━━━━━━━━┓\n",
              "┃<span style=\"font-weight: bold\"> Layer (type)                         </span>┃<span style=\"font-weight: bold\"> Output Shape                </span>┃<span style=\"font-weight: bold\">         Param # </span>┃\n",
              "┡━━━━━━━━━━━━━━━━━━━━━━━━━━━━━━━━━━━━━━╇━━━━━━━━━━━━━━━━━━━━━━━━━━━━━╇━━━━━━━━━━━━━━━━━┩\n",
              "│ embedding (<span style=\"color: #0087ff; text-decoration-color: #0087ff\">Embedding</span>)                │ (<span style=\"color: #00d7ff; text-decoration-color: #00d7ff\">None</span>, <span style=\"color: #00af00; text-decoration-color: #00af00\">939</span>, <span style=\"color: #00af00; text-decoration-color: #00af00\">939</span>)            │      <span style=\"color: #00af00; text-decoration-color: #00af00\">32,394,561</span> │\n",
              "├──────────────────────────────────────┼─────────────────────────────┼─────────────────┤\n",
              "│ global_average_pooling1d             │ (<span style=\"color: #00d7ff; text-decoration-color: #00d7ff\">None</span>, <span style=\"color: #00af00; text-decoration-color: #00af00\">939</span>)                 │               <span style=\"color: #00af00; text-decoration-color: #00af00\">0</span> │\n",
              "│ (<span style=\"color: #0087ff; text-decoration-color: #0087ff\">GlobalAveragePooling1D</span>)             │                             │                 │\n",
              "├──────────────────────────────────────┼─────────────────────────────┼─────────────────┤\n",
              "│ dropout (<span style=\"color: #0087ff; text-decoration-color: #0087ff\">Dropout</span>)                    │ (<span style=\"color: #00d7ff; text-decoration-color: #00d7ff\">None</span>, <span style=\"color: #00af00; text-decoration-color: #00af00\">939</span>)                 │               <span style=\"color: #00af00; text-decoration-color: #00af00\">0</span> │\n",
              "├──────────────────────────────────────┼─────────────────────────────┼─────────────────┤\n",
              "│ dense (<span style=\"color: #0087ff; text-decoration-color: #0087ff\">Dense</span>)                        │ (<span style=\"color: #00d7ff; text-decoration-color: #00d7ff\">None</span>, <span style=\"color: #00af00; text-decoration-color: #00af00\">2</span>)                   │           <span style=\"color: #00af00; text-decoration-color: #00af00\">1,880</span> │\n",
              "└──────────────────────────────────────┴─────────────────────────────┴─────────────────┘\n",
              "</pre>\n"
            ]
          },
          "metadata": {}
        },
        {
          "output_type": "display_data",
          "data": {
            "text/plain": [
              "\u001b[1m Total params: \u001b[0m\u001b[38;5;34m32,396,441\u001b[0m (123.58 MB)\n"
            ],
            "text/html": [
              "<pre style=\"white-space:pre;overflow-x:auto;line-height:normal;font-family:Menlo,'DejaVu Sans Mono',consolas,'Courier New',monospace\"><span style=\"font-weight: bold\"> Total params: </span><span style=\"color: #00af00; text-decoration-color: #00af00\">32,396,441</span> (123.58 MB)\n",
              "</pre>\n"
            ]
          },
          "metadata": {}
        },
        {
          "output_type": "display_data",
          "data": {
            "text/plain": [
              "\u001b[1m Trainable params: \u001b[0m\u001b[38;5;34m32,396,441\u001b[0m (123.58 MB)\n"
            ],
            "text/html": [
              "<pre style=\"white-space:pre;overflow-x:auto;line-height:normal;font-family:Menlo,'DejaVu Sans Mono',consolas,'Courier New',monospace\"><span style=\"font-weight: bold\"> Trainable params: </span><span style=\"color: #00af00; text-decoration-color: #00af00\">32,396,441</span> (123.58 MB)\n",
              "</pre>\n"
            ]
          },
          "metadata": {}
        },
        {
          "output_type": "display_data",
          "data": {
            "text/plain": [
              "\u001b[1m Non-trainable params: \u001b[0m\u001b[38;5;34m0\u001b[0m (0.00 B)\n"
            ],
            "text/html": [
              "<pre style=\"white-space:pre;overflow-x:auto;line-height:normal;font-family:Menlo,'DejaVu Sans Mono',consolas,'Courier New',monospace\"><span style=\"font-weight: bold\"> Non-trainable params: </span><span style=\"color: #00af00; text-decoration-color: #00af00\">0</span> (0.00 B)\n",
              "</pre>\n"
            ]
          },
          "metadata": {}
        }
      ],
      "source": [
        "from tensorflow.keras.layers import BatchNormalization, Dropout\n",
        "from tensorflow.keras.regularizers import l2\n",
        "\n",
        "model = keras.models.Sequential([\n",
        "    Embedding(voc_size, max_sentince_size, input_length=max_sentince_size),\n",
        "    GlobalAveragePooling1D(),\n",
        "    Dropout(0.5),\n",
        "    Dense(2, activation=\"softmax\",  kernel_regularizer=l2(0.001))\n",
        "])\n",
        "\n",
        "model.build(input_shape=(None, max_sentince_size))\n",
        "\n",
        "model.compile(optimizer=\"adam\", loss=\"categorical_crossentropy\", metrics=[\"accuracy\"])\n",
        "model.summary()"
      ]
    },
    {
      "cell_type": "code",
      "execution_count": 22,
      "id": "5227260f",
      "metadata": {
        "execution": {
          "iopub.execute_input": "2024-09-26T12:38:05.073627Z",
          "iopub.status.busy": "2024-09-26T12:38:05.073309Z",
          "iopub.status.idle": "2024-09-26T12:38:05.079385Z",
          "shell.execute_reply": "2024-09-26T12:38:05.078662Z"
        },
        "papermill": {
          "duration": 0.020143,
          "end_time": "2024-09-26T12:38:05.081548",
          "exception": false,
          "start_time": "2024-09-26T12:38:05.061405",
          "status": "completed"
        },
        "tags": [],
        "id": "5227260f"
      },
      "outputs": [],
      "source": [
        "from tensorflow.keras.callbacks import EarlyStopping\n",
        "early_stop = EarlyStopping(monitor='val_loss', patience=2)\n"
      ]
    },
    {
      "cell_type": "code",
      "execution_count": 23,
      "id": "48b3435f",
      "metadata": {
        "execution": {
          "iopub.execute_input": "2024-09-26T12:38:05.104284Z",
          "iopub.status.busy": "2024-09-26T12:38:05.103968Z",
          "iopub.status.idle": "2024-09-26T12:46:03.330827Z",
          "shell.execute_reply": "2024-09-26T12:46:03.329833Z"
        },
        "papermill": {
          "duration": 478.240647,
          "end_time": "2024-09-26T12:46:03.333136",
          "exception": false,
          "start_time": "2024-09-26T12:38:05.092489",
          "status": "completed"
        },
        "tags": [],
        "colab": {
          "base_uri": "https://localhost:8080/"
        },
        "id": "48b3435f",
        "outputId": "46640a32-031a-44a9-fb65-5fc509443468"
      },
      "outputs": [
        {
          "output_type": "stream",
          "name": "stdout",
          "text": [
            "Epoch 1/20\n",
            "\u001b[1m88/88\u001b[0m \u001b[32m━━━━━━━━━━━━━━━━━━━━\u001b[0m\u001b[37m\u001b[0m \u001b[1m7s\u001b[0m 46ms/step - accuracy: 0.4878 - loss: 0.7424 - val_accuracy: 0.4925 - val_loss: 0.7331\n",
            "Epoch 2/20\n",
            "\u001b[1m88/88\u001b[0m \u001b[32m━━━━━━━━━━━━━━━━━━━━\u001b[0m\u001b[37m\u001b[0m \u001b[1m1s\u001b[0m 12ms/step - accuracy: 0.5074 - loss: 0.7153 - val_accuracy: 0.5050 - val_loss: 0.6905\n",
            "Epoch 3/20\n",
            "\u001b[1m88/88\u001b[0m \u001b[32m━━━━━━━━━━━━━━━━━━━━\u001b[0m\u001b[37m\u001b[0m \u001b[1m1s\u001b[0m 11ms/step - accuracy: 0.5308 - loss: 0.7006 - val_accuracy: 0.5075 - val_loss: 0.6884\n",
            "Epoch 4/20\n",
            "\u001b[1m88/88\u001b[0m \u001b[32m━━━━━━━━━━━━━━━━━━━━\u001b[0m\u001b[37m\u001b[0m \u001b[1m1s\u001b[0m 11ms/step - accuracy: 0.5287 - loss: 0.7021 - val_accuracy: 0.5201 - val_loss: 0.6860\n",
            "Epoch 5/20\n",
            "\u001b[1m88/88\u001b[0m \u001b[32m━━━━━━━━━━━━━━━━━━━━\u001b[0m\u001b[37m\u001b[0m \u001b[1m1s\u001b[0m 11ms/step - accuracy: 0.5445 - loss: 0.7005 - val_accuracy: 0.4992 - val_loss: 0.6935\n",
            "Epoch 6/20\n",
            "\u001b[1m88/88\u001b[0m \u001b[32m━━━━━━━━━━━━━━━━━━━━\u001b[0m\u001b[37m\u001b[0m \u001b[1m1s\u001b[0m 11ms/step - accuracy: 0.5476 - loss: 0.6905 - val_accuracy: 0.5075 - val_loss: 0.7054\n"
          ]
        }
      ],
      "source": [
        "history = model.fit(X_train, y_train, callbacks=[early_stop], epochs=20, validation_data=(X_test, y_test))"
      ]
    },
    {
      "cell_type": "code",
      "execution_count": 24,
      "id": "9c3166ea",
      "metadata": {
        "execution": {
          "iopub.execute_input": "2024-09-26T12:46:04.487695Z",
          "iopub.status.busy": "2024-09-26T12:46:04.487290Z",
          "iopub.status.idle": "2024-09-26T12:49:20.869113Z",
          "shell.execute_reply": "2024-09-26T12:49:20.868258Z"
        },
        "papermill": {
          "duration": 196.936136,
          "end_time": "2024-09-26T12:49:20.871474",
          "exception": false,
          "start_time": "2024-09-26T12:46:03.935338",
          "status": "completed"
        },
        "tags": [],
        "colab": {
          "base_uri": "https://localhost:8080/"
        },
        "id": "9c3166ea",
        "outputId": "ef6f8a91-e3ae-4b87-d26b-ce1a481c264e"
      },
      "outputs": [
        {
          "output_type": "stream",
          "name": "stdout",
          "text": [
            "Epoch 1/20\n",
            "\u001b[1m88/88\u001b[0m \u001b[32m━━━━━━━━━━━━━━━━━━━━\u001b[0m\u001b[37m\u001b[0m \u001b[1m1s\u001b[0m 11ms/step - accuracy: 0.5666 - loss: 0.6788 - val_accuracy: 0.5075 - val_loss: 0.7161\n",
            "Epoch 2/20\n",
            "\u001b[1m88/88\u001b[0m \u001b[32m━━━━━━━━━━━━━━━━━━━━\u001b[0m\u001b[37m\u001b[0m \u001b[1m1s\u001b[0m 11ms/step - accuracy: 0.5510 - loss: 0.6905 - val_accuracy: 0.6960 - val_loss: 0.6686\n",
            "Epoch 3/20\n",
            "\u001b[1m88/88\u001b[0m \u001b[32m━━━━━━━━━━━━━━━━━━━━\u001b[0m\u001b[37m\u001b[0m \u001b[1m1s\u001b[0m 12ms/step - accuracy: 0.5836 - loss: 0.6808 - val_accuracy: 0.5075 - val_loss: 0.7444\n",
            "Epoch 4/20\n",
            "\u001b[1m88/88\u001b[0m \u001b[32m━━━━━━━━━━━━━━━━━━━━\u001b[0m\u001b[37m\u001b[0m \u001b[1m1s\u001b[0m 14ms/step - accuracy: 0.5644 - loss: 0.6931 - val_accuracy: 0.6658 - val_loss: 0.6590\n",
            "Epoch 5/20\n",
            "\u001b[1m88/88\u001b[0m \u001b[32m━━━━━━━━━━━━━━━━━━━━\u001b[0m\u001b[37m\u001b[0m \u001b[1m1s\u001b[0m 14ms/step - accuracy: 0.5522 - loss: 0.6958 - val_accuracy: 0.5117 - val_loss: 0.6811\n",
            "Epoch 6/20\n",
            "\u001b[1m88/88\u001b[0m \u001b[32m━━━━━━━━━━━━━━━━━━━━\u001b[0m\u001b[37m\u001b[0m \u001b[1m1s\u001b[0m 11ms/step - accuracy: 0.6174 - loss: 0.6585 - val_accuracy: 0.5168 - val_loss: 0.6796\n"
          ]
        }
      ],
      "source": [
        "history1 = model.fit(X_train, y_train, callbacks=[early_stop], epochs=20, validation_data=(X_test, y_test))"
      ]
    },
    {
      "cell_type": "code",
      "execution_count": 25,
      "id": "b6b71ab0",
      "metadata": {
        "execution": {
          "iopub.execute_input": "2024-09-26T12:49:22.507589Z",
          "iopub.status.busy": "2024-09-26T12:49:22.507191Z",
          "iopub.status.idle": "2024-09-26T12:50:41.320951Z",
          "shell.execute_reply": "2024-09-26T12:50:41.319965Z"
        },
        "papermill": {
          "duration": 79.672781,
          "end_time": "2024-09-26T12:50:41.323331",
          "exception": false,
          "start_time": "2024-09-26T12:49:21.650550",
          "status": "completed"
        },
        "tags": [],
        "colab": {
          "base_uri": "https://localhost:8080/"
        },
        "id": "b6b71ab0",
        "outputId": "012b58bb-a7d3-4388-d05a-7f87a65933ed"
      },
      "outputs": [
        {
          "output_type": "stream",
          "name": "stdout",
          "text": [
            "Epoch 1/20\n",
            "\u001b[1m88/88\u001b[0m \u001b[32m━━━━━━━━━━━━━━━━━━━━\u001b[0m\u001b[37m\u001b[0m \u001b[1m1s\u001b[0m 12ms/step - accuracy: 0.6313 - loss: 0.6445 - val_accuracy: 0.5109 - val_loss: 0.7115\n",
            "Epoch 2/20\n",
            "\u001b[1m88/88\u001b[0m \u001b[32m━━━━━━━━━━━━━━━━━━━━\u001b[0m\u001b[37m\u001b[0m \u001b[1m1s\u001b[0m 11ms/step - accuracy: 0.6501 - loss: 0.6395 - val_accuracy: 0.5754 - val_loss: 0.6434\n",
            "Epoch 3/20\n",
            "\u001b[1m88/88\u001b[0m \u001b[32m━━━━━━━━━━━━━━━━━━━━\u001b[0m\u001b[37m\u001b[0m \u001b[1m1s\u001b[0m 11ms/step - accuracy: 0.6227 - loss: 0.6728 - val_accuracy: 0.5410 - val_loss: 0.6596\n",
            "Epoch 4/20\n",
            "\u001b[1m88/88\u001b[0m \u001b[32m━━━━━━━━━━━━━━━━━━━━\u001b[0m\u001b[37m\u001b[0m \u001b[1m1s\u001b[0m 11ms/step - accuracy: 0.6381 - loss: 0.6393 - val_accuracy: 0.5101 - val_loss: 0.7270\n"
          ]
        }
      ],
      "source": [
        "history2 = model.fit(X_train, y_train, callbacks=[early_stop], epochs=20, validation_data=(X_test, y_test))"
      ]
    },
    {
      "cell_type": "code",
      "execution_count": 26,
      "id": "69ed2103",
      "metadata": {
        "execution": {
          "iopub.execute_input": "2024-09-26T12:50:43.092669Z",
          "iopub.status.busy": "2024-09-26T12:50:43.091855Z",
          "iopub.status.idle": "2024-09-26T12:53:59.505818Z",
          "shell.execute_reply": "2024-09-26T12:53:59.505006Z"
        },
        "papermill": {
          "duration": 197.320066,
          "end_time": "2024-09-26T12:53:59.507921",
          "exception": false,
          "start_time": "2024-09-26T12:50:42.187855",
          "status": "completed"
        },
        "tags": [],
        "colab": {
          "base_uri": "https://localhost:8080/"
        },
        "id": "69ed2103",
        "outputId": "47e3e389-73bb-407c-cba2-92410cb77015"
      },
      "outputs": [
        {
          "output_type": "stream",
          "name": "stdout",
          "text": [
            "Epoch 1/50\n",
            "\u001b[1m88/88\u001b[0m \u001b[32m━━━━━━━━━━━━━━━━━━━━\u001b[0m\u001b[37m\u001b[0m \u001b[1m1s\u001b[0m 11ms/step - accuracy: 0.6534 - loss: 0.6316 - val_accuracy: 0.7236 - val_loss: 0.6014\n",
            "Epoch 2/50\n",
            "\u001b[1m88/88\u001b[0m \u001b[32m━━━━━━━━━━━━━━━━━━━━\u001b[0m\u001b[37m\u001b[0m \u001b[1m1s\u001b[0m 11ms/step - accuracy: 0.6344 - loss: 0.6499 - val_accuracy: 0.6114 - val_loss: 0.6058\n",
            "Epoch 3/50\n",
            "\u001b[1m88/88\u001b[0m \u001b[32m━━━━━━━━━━━━━━━━━━━━\u001b[0m\u001b[37m\u001b[0m \u001b[1m1s\u001b[0m 12ms/step - accuracy: 0.6713 - loss: 0.5978 - val_accuracy: 0.7471 - val_loss: 0.5801\n",
            "Epoch 4/50\n",
            "\u001b[1m88/88\u001b[0m \u001b[32m━━━━━━━━━━━━━━━━━━━━\u001b[0m\u001b[37m\u001b[0m \u001b[1m1s\u001b[0m 12ms/step - accuracy: 0.7220 - loss: 0.5611 - val_accuracy: 0.8275 - val_loss: 0.5633\n",
            "Epoch 5/50\n",
            "\u001b[1m88/88\u001b[0m \u001b[32m━━━━━━━━━━━━━━━━━━━━\u001b[0m\u001b[37m\u001b[0m \u001b[1m1s\u001b[0m 13ms/step - accuracy: 0.7251 - loss: 0.5514 - val_accuracy: 0.5645 - val_loss: 0.6251\n",
            "Epoch 6/50\n",
            "\u001b[1m88/88\u001b[0m \u001b[32m━━━━━━━━━━━━━━━━━━━━\u001b[0m\u001b[37m\u001b[0m \u001b[1m1s\u001b[0m 11ms/step - accuracy: 0.7158 - loss: 0.5622 - val_accuracy: 0.8233 - val_loss: 0.5409\n",
            "Epoch 7/50\n",
            "\u001b[1m88/88\u001b[0m \u001b[32m━━━━━━━━━━━━━━━━━━━━\u001b[0m\u001b[37m\u001b[0m \u001b[1m1s\u001b[0m 12ms/step - accuracy: 0.7641 - loss: 0.5150 - val_accuracy: 0.5955 - val_loss: 0.5927\n",
            "Epoch 8/50\n",
            "\u001b[1m88/88\u001b[0m \u001b[32m━━━━━━━━━━━━━━━━━━━━\u001b[0m\u001b[37m\u001b[0m \u001b[1m1s\u001b[0m 12ms/step - accuracy: 0.7036 - loss: 0.5626 - val_accuracy: 0.5628 - val_loss: 0.6435\n"
          ]
        }
      ],
      "source": [
        "history3 = model.fit(X_train, y_train, callbacks=[early_stop], epochs=50, validation_data=(X_test, y_test))"
      ]
    },
    {
      "cell_type": "code",
      "execution_count": 27,
      "id": "813b7e2c",
      "metadata": {
        "execution": {
          "iopub.execute_input": "2024-09-26T12:54:01.728839Z",
          "iopub.status.busy": "2024-09-26T12:54:01.728416Z",
          "iopub.status.idle": "2024-09-26T12:54:02.121976Z",
          "shell.execute_reply": "2024-09-26T12:54:02.120918Z"
        },
        "papermill": {
          "duration": 1.485675,
          "end_time": "2024-09-26T12:54:02.124197",
          "exception": false,
          "start_time": "2024-09-26T12:54:00.638522",
          "status": "completed"
        },
        "tags": [],
        "colab": {
          "base_uri": "https://localhost:8080/",
          "height": 472
        },
        "id": "813b7e2c",
        "outputId": "62c0f666-c076-4220-bf8b-eb743dde15e1"
      },
      "outputs": [
        {
          "output_type": "display_data",
          "data": {
            "text/plain": [
              "<Figure size 640x480 with 1 Axes>"
            ],
            "image/png": "[encoded data removed]"
          },
          "metadata": {}
        }
      ],
      "source": [
        "plt.plot(history.history[\"accuracy\"] + history1.history[\"accuracy\"] + history2.history[\"accuracy\"]+history3.history[\"accuracy\"], label=\"accuracy\")\n",
        "plt.plot(history.history[\"val_accuracy\"]+ history1.history[\"val_accuracy\"] + history2.history[\"val_accuracy\"]+history3.history[\"val_accuracy\"], label=\"val_accuracy\")\n",
        "\n",
        "plt.xlabel(\"Epochs\")\n",
        "plt.ylabel(\"Accuracy\")\n",
        "\n",
        "plt.title(\"Accuracy Vs Epochs\")\n",
        "\n",
        "plt.legend()\n",
        "plt.grid()"
      ]
    },
    {
      "cell_type": "code",
      "execution_count": 28,
      "id": "d5c0f237",
      "metadata": {
        "execution": {
          "iopub.execute_input": "2024-09-26T12:54:04.448763Z",
          "iopub.status.busy": "2024-09-26T12:54:04.447895Z",
          "iopub.status.idle": "2024-09-26T12:54:04.796567Z",
          "shell.execute_reply": "2024-09-26T12:54:04.795627Z"
        },
        "papermill": {
          "duration": 1.477229,
          "end_time": "2024-09-26T12:54:04.798525",
          "exception": false,
          "start_time": "2024-09-26T12:54:03.321296",
          "status": "completed"
        },
        "tags": [],
        "colab": {
          "base_uri": "https://localhost:8080/",
          "height": 472
        },
        "id": "d5c0f237",
        "outputId": "14b686d1-85f9-40f1-d9ac-e9d02f2b041e"
      },
      "outputs": [
        {
          "output_type": "display_data",
          "data": {
            "text/plain": [
              "<Figure size 640x480 with 1 Axes>"
            ],
            "image/png": "[encoded data removed]"
          },
          "metadata": {}
        }
      ],
      "source": [
        "plt.plot(history.history[\"loss\"]+history1.history[\"loss\"]+history2.history[\"loss\"]+history3.history[\"loss\"], label=\"Loss\")\n",
        "plt.plot(history.history[\"val_loss\"]+history1.history[\"val_loss\"]+history2.history[\"val_loss\"]+history3.history[\"val_loss\"], label=\"Val_Loss\")\n",
        "\n",
        "plt.xlabel(\"Epochs\")\n",
        "plt.ylabel(\"Loss\")\n",
        "\n",
        "plt.title(\"Loss Vs Epochs\")\n",
        "\n",
        "plt.legend()\n",
        "plt.grid()"
      ]
    }
  ],
  "metadata": {
    "kaggle": {
      "accelerator": "nvidiaTeslaT4",
      "dataSources": [
        {
          "datasetId": 5586338,
          "sourceId": 9235652,
          "sourceType": "datasetVersion"
        }
      ],
      "dockerImageVersionId": 30776,
      "isGpuEnabled": true,
      "isInternetEnabled": true,
      "language": "python",
      "sourceType": "notebook"
    },
    "kernelspec": {
      "display_name": "Python 3",
      "name": "python3"
    },
    "language_info": {
      "codemirror_mode": {
        "name": "ipython",
        "version": 3
      },
      "file_extension": ".py",
      "mimetype": "text/x-python",
      "name": "python",
      "nbconvert_exporter": "python",
      "pygments_lexer": "ipython3",
      "version": "3.10.14"
    },
    "papermill": {
      "default_parameters": {},
      "duration": 1128.514284,
      "end_time": "2024-09-26T12:54:17.169418",
      "environment_variables": {},
      "exception": null,
      "input_path": "__notebook__.ipynb",
      "output_path": "__notebook__.ipynb",
      "parameters": {},
      "start_time": "2024-09-26T12:35:28.655134",
      "version": "2.6.0"
    },
    "colab": {
      "provenance": [],
      "gpuType": "T4"
    },
    "accelerator": "GPU"
  },
  "nbformat": 4,
  "nbformat_minor": 5
}